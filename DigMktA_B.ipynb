{
  "nbformat": 4,
  "nbformat_minor": 0,
  "metadata": {
    "colab": {
      "provenance": [],
      "authorship_tag": "ABX9TyPAxO2/Tm6YYzON6Nw2KQIT",
      "include_colab_link": true
    },
    "kernelspec": {
      "name": "python3",
      "display_name": "Python 3"
    },
    "language_info": {
      "name": "python"
    }
  },
  "cells": [
    {
      "cell_type": "markdown",
      "metadata": {
        "id": "view-in-github",
        "colab_type": "text"
      },
      "source": [
        "<a href=\"https://colab.research.google.com/github/bhavesh3002/PORTFOLIO/blob/main/DigMktA_B.ipynb\" target=\"_parent\"><img src=\"https://colab.research.google.com/assets/colab-badge.svg\" alt=\"Open In Colab\"/></a>"
      ]
    },
    {
      "cell_type": "markdown",
      "source": [
        "**Business Context:**\n",
        "\n",
        "A marketing company is conducting an A/B test to evaluate the effectiveness of their advertising campaign. The test compares user behavior between those who saw advertisements (Ad group) versus those who saw public service announcements (PSA group).\n",
        "\n",
        "Key Questions to Address:\n",
        "\n",
        "**1. Campaign Effectiveness:**\n",
        "\n",
        "1. What is the conversion lift attributable to the advertising?\n",
        "2. Is there a statistically significant difference in conversion rates between ad and PSA groups?\n",
        "3. What is the effect size (how much better/worse did the ad group perform)?\n",
        "4. What is the confidence interval for difference in conversion rates if it exists?\n",
        "\n",
        "**2. ROI(Return on Investment) Assessment:**\n",
        "\n",
        "1. How much additional revenue can be expected from using ads vs PSAs?\n",
        "\n",
        "**3. Ad Exposure Impact:**\n",
        "\n",
        "1. Is there a correlation between the number of ads seen and conversion rate?\n",
        "2. What is the optimal number of ad exposures for conversion?\n",
        "\n",
        "**4. Temporal Analysis:**\n",
        "\n",
        "1. Which days of the week show the highest conversion rates?\n",
        "2. Is the a significant difference in conversion between weekdays?\n",
        "3. What are the most effective day of week for ad display?\n",
        "4. Is there a significant difference in ad performance across different times?\n",
        "5. What are the most effective hours for ad display?\n",
        "\n",
        "\n",
        "\n",
        "**Expected Outcomes:**\n",
        "\n",
        "1. Statistical validation of campaign effectiveness\n",
        "2. Quantified business impact with confidence intervals\n",
        "3. Recommendations for optimal ad delivery timing\n",
        "4. Insights for future campaign optimization\n",
        "\n",
        "**Data dictionary:**\n",
        "\n",
        "\n",
        "\n",
        "\n",
        "* index: Row index\n",
        "* user_id: user_id (unique)\n",
        "* test_group: If \"ad\" the person saw the advertisement, if \"psa\" they only saw * default public service announcement\n",
        "* converted: If a person bought the product then True, else is False\n",
        "* total_ads: Amount of ads seen by person\n",
        "* most_ads_day: Day that the person saw the biggest amount of ads\n",
        "* most_ads_hour: Hour of day that the person saw the biggest amount of ads"
      ],
      "metadata": {
        "id": "CAOfUsTkojaX"
      }
    },
    {
      "cell_type": "code",
      "source": [
        "# Data\n",
        "import pandas as pd\n",
        "import numpy as np\n",
        "from itertools import combinations\n",
        "import random\n",
        "\n",
        "# A/B testing\n",
        "import scipy.stats as stats\n",
        "from statsmodels.stats.proportion import proportions_ztest\n",
        "from statsmodels.stats.proportion import confint_proportions_2indep\n",
        "from statsmodels.stats.power import NormalIndPower\n",
        "from scipy.stats import chi2_contingency\n",
        "from statsmodels.stats.multicomp import pairwise_tukeyhsd\n",
        "from statsmodels.stats.multitest import multipletests\n",
        "from statsmodels.formula.api import logit\n",
        "from scipy.optimize import minimize\n",
        "from sklearn.metrics import roc_auc_score\n",
        "\n",
        "# Suppress specific warnings\n",
        "import warnings\n",
        "warnings.filterwarnings('ignore', category=FutureWarning, module='pandas')\n",
        "warnings.filterwarnings('ignore', category=FutureWarning, module='seaborn')\n",
        "\n",
        "# Visualization\n",
        "import matplotlib.pyplot as plt\n",
        "import seaborn as sns\n",
        "import matplotlib.ticker as ticker\n",
        "from matplotlib.patches import Patch\n",
        "\n",
        "pd.set_option('display.max_rows',None)\n",
        "pd.set_option('display.max_columns',None)\n",
        "pd.set_option('display.float_format', lambda x: '%.4f' % x)\n",
        "\n",
        "%config InlineBackend.figure_format='retina'\n",
        "\n",
        "# Custom color palette\n",
        "custom_colors = ['#F6BD60', '#F7EDE2', '#F5CAC3', '#84A59D', '#F28482']\n",
        "\n",
        "sns.set_theme(context='paper', style='whitegrid', palette=custom_colors, font='sans-serif', font_scale=1, color_codes=True,\n",
        "              rc={'grid.alpha': 0.5, 'axes.titlesize': 14, 'figure.figsize': (12, 6)})\n",
        "\n",
        "sns.color_palette(custom_colors)"
      ],
      "metadata": {
        "colab": {
          "base_uri": "https://localhost:8080/",
          "height": 77
        },
        "id": "swz4Rh4uofzp",
        "outputId": "133714b4-4ff5-4c70-8499-bee2a08fbbad"
      },
      "execution_count": 3,
      "outputs": [
        {
          "output_type": "execute_result",
          "data": {
            "text/plain": [
              "[(0.9647058823529412, 0.7411764705882353, 0.3764705882352941),\n",
              " (0.9686274509803922, 0.9294117647058824, 0.8862745098039215),\n",
              " (0.9607843137254902, 0.792156862745098, 0.7647058823529411),\n",
              " (0.5176470588235295, 0.6470588235294118, 0.615686274509804),\n",
              " (0.9490196078431372, 0.5176470588235295, 0.5098039215686274)]"
            ],
            "text/html": [
              "<svg  width=\"275\" height=\"55\"><rect x=\"0\" y=\"0\" width=\"55\" height=\"55\" style=\"fill:#f6bd60;stroke-width:2;stroke:rgb(255,255,255)\"/><rect x=\"55\" y=\"0\" width=\"55\" height=\"55\" style=\"fill:#f7ede2;stroke-width:2;stroke:rgb(255,255,255)\"/><rect x=\"110\" y=\"0\" width=\"55\" height=\"55\" style=\"fill:#f5cac3;stroke-width:2;stroke:rgb(255,255,255)\"/><rect x=\"165\" y=\"0\" width=\"55\" height=\"55\" style=\"fill:#84a59d;stroke-width:2;stroke:rgb(255,255,255)\"/><rect x=\"220\" y=\"0\" width=\"55\" height=\"55\" style=\"fill:#f28482;stroke-width:2;stroke:rgb(255,255,255)\"/></svg>"
            ]
          },
          "metadata": {},
          "execution_count": 3
        }
      ]
    },
    {
      "cell_type": "code",
      "source": [
        "ad_campaign = pd.read_csv('marketing_AB.csv')\n",
        "ad_campaign.head()"
      ],
      "metadata": {
        "colab": {
          "base_uri": "https://localhost:8080/",
          "height": 206
        },
        "id": "cMXLIHM5rRIL",
        "outputId": "d177041a-6920-489b-b425-84ecddfafc30"
      },
      "execution_count": 4,
      "outputs": [
        {
          "output_type": "execute_result",
          "data": {
            "text/plain": [
              "   Unnamed: 0  user id test group  converted  total ads most ads day  \\\n",
              "0           0  1069124         ad      False        130       Monday   \n",
              "1           1  1119715         ad      False         93      Tuesday   \n",
              "2           2  1144181         ad      False         21      Tuesday   \n",
              "3           3  1435133         ad      False        355      Tuesday   \n",
              "4           4  1015700         ad      False        276       Friday   \n",
              "\n",
              "   most ads hour  \n",
              "0             20  \n",
              "1             22  \n",
              "2             18  \n",
              "3             10  \n",
              "4             14  "
            ],
            "text/html": [
              "\n",
              "  <div id=\"df-214b2949-66cb-4ea1-af6f-d0d26677d455\" class=\"colab-df-container\">\n",
              "    <div>\n",
              "<style scoped>\n",
              "    .dataframe tbody tr th:only-of-type {\n",
              "        vertical-align: middle;\n",
              "    }\n",
              "\n",
              "    .dataframe tbody tr th {\n",
              "        vertical-align: top;\n",
              "    }\n",
              "\n",
              "    .dataframe thead th {\n",
              "        text-align: right;\n",
              "    }\n",
              "</style>\n",
              "<table border=\"1\" class=\"dataframe\">\n",
              "  <thead>\n",
              "    <tr style=\"text-align: right;\">\n",
              "      <th></th>\n",
              "      <th>Unnamed: 0</th>\n",
              "      <th>user id</th>\n",
              "      <th>test group</th>\n",
              "      <th>converted</th>\n",
              "      <th>total ads</th>\n",
              "      <th>most ads day</th>\n",
              "      <th>most ads hour</th>\n",
              "    </tr>\n",
              "  </thead>\n",
              "  <tbody>\n",
              "    <tr>\n",
              "      <th>0</th>\n",
              "      <td>0</td>\n",
              "      <td>1069124</td>\n",
              "      <td>ad</td>\n",
              "      <td>False</td>\n",
              "      <td>130</td>\n",
              "      <td>Monday</td>\n",
              "      <td>20</td>\n",
              "    </tr>\n",
              "    <tr>\n",
              "      <th>1</th>\n",
              "      <td>1</td>\n",
              "      <td>1119715</td>\n",
              "      <td>ad</td>\n",
              "      <td>False</td>\n",
              "      <td>93</td>\n",
              "      <td>Tuesday</td>\n",
              "      <td>22</td>\n",
              "    </tr>\n",
              "    <tr>\n",
              "      <th>2</th>\n",
              "      <td>2</td>\n",
              "      <td>1144181</td>\n",
              "      <td>ad</td>\n",
              "      <td>False</td>\n",
              "      <td>21</td>\n",
              "      <td>Tuesday</td>\n",
              "      <td>18</td>\n",
              "    </tr>\n",
              "    <tr>\n",
              "      <th>3</th>\n",
              "      <td>3</td>\n",
              "      <td>1435133</td>\n",
              "      <td>ad</td>\n",
              "      <td>False</td>\n",
              "      <td>355</td>\n",
              "      <td>Tuesday</td>\n",
              "      <td>10</td>\n",
              "    </tr>\n",
              "    <tr>\n",
              "      <th>4</th>\n",
              "      <td>4</td>\n",
              "      <td>1015700</td>\n",
              "      <td>ad</td>\n",
              "      <td>False</td>\n",
              "      <td>276</td>\n",
              "      <td>Friday</td>\n",
              "      <td>14</td>\n",
              "    </tr>\n",
              "  </tbody>\n",
              "</table>\n",
              "</div>\n",
              "    <div class=\"colab-df-buttons\">\n",
              "\n",
              "  <div class=\"colab-df-container\">\n",
              "    <button class=\"colab-df-convert\" onclick=\"convertToInteractive('df-214b2949-66cb-4ea1-af6f-d0d26677d455')\"\n",
              "            title=\"Convert this dataframe to an interactive table.\"\n",
              "            style=\"display:none;\">\n",
              "\n",
              "  <svg xmlns=\"http://www.w3.org/2000/svg\" height=\"24px\" viewBox=\"0 -960 960 960\">\n",
              "    <path d=\"M120-120v-720h720v720H120Zm60-500h600v-160H180v160Zm220 220h160v-160H400v160Zm0 220h160v-160H400v160ZM180-400h160v-160H180v160Zm440 0h160v-160H620v160ZM180-180h160v-160H180v160Zm440 0h160v-160H620v160Z\"/>\n",
              "  </svg>\n",
              "    </button>\n",
              "\n",
              "  <style>\n",
              "    .colab-df-container {\n",
              "      display:flex;\n",
              "      gap: 12px;\n",
              "    }\n",
              "\n",
              "    .colab-df-convert {\n",
              "      background-color: #E8F0FE;\n",
              "      border: none;\n",
              "      border-radius: 50%;\n",
              "      cursor: pointer;\n",
              "      display: none;\n",
              "      fill: #1967D2;\n",
              "      height: 32px;\n",
              "      padding: 0 0 0 0;\n",
              "      width: 32px;\n",
              "    }\n",
              "\n",
              "    .colab-df-convert:hover {\n",
              "      background-color: #E2EBFA;\n",
              "      box-shadow: 0px 1px 2px rgba(60, 64, 67, 0.3), 0px 1px 3px 1px rgba(60, 64, 67, 0.15);\n",
              "      fill: #174EA6;\n",
              "    }\n",
              "\n",
              "    .colab-df-buttons div {\n",
              "      margin-bottom: 4px;\n",
              "    }\n",
              "\n",
              "    [theme=dark] .colab-df-convert {\n",
              "      background-color: #3B4455;\n",
              "      fill: #D2E3FC;\n",
              "    }\n",
              "\n",
              "    [theme=dark] .colab-df-convert:hover {\n",
              "      background-color: #434B5C;\n",
              "      box-shadow: 0px 1px 3px 1px rgba(0, 0, 0, 0.15);\n",
              "      filter: drop-shadow(0px 1px 2px rgba(0, 0, 0, 0.3));\n",
              "      fill: #FFFFFF;\n",
              "    }\n",
              "  </style>\n",
              "\n",
              "    <script>\n",
              "      const buttonEl =\n",
              "        document.querySelector('#df-214b2949-66cb-4ea1-af6f-d0d26677d455 button.colab-df-convert');\n",
              "      buttonEl.style.display =\n",
              "        google.colab.kernel.accessAllowed ? 'block' : 'none';\n",
              "\n",
              "      async function convertToInteractive(key) {\n",
              "        const element = document.querySelector('#df-214b2949-66cb-4ea1-af6f-d0d26677d455');\n",
              "        const dataTable =\n",
              "          await google.colab.kernel.invokeFunction('convertToInteractive',\n",
              "                                                    [key], {});\n",
              "        if (!dataTable) return;\n",
              "\n",
              "        const docLinkHtml = 'Like what you see? Visit the ' +\n",
              "          '<a target=\"_blank\" href=https://colab.research.google.com/notebooks/data_table.ipynb>data table notebook</a>'\n",
              "          + ' to learn more about interactive tables.';\n",
              "        element.innerHTML = '';\n",
              "        dataTable['output_type'] = 'display_data';\n",
              "        await google.colab.output.renderOutput(dataTable, element);\n",
              "        const docLink = document.createElement('div');\n",
              "        docLink.innerHTML = docLinkHtml;\n",
              "        element.appendChild(docLink);\n",
              "      }\n",
              "    </script>\n",
              "  </div>\n",
              "\n",
              "\n",
              "    <div id=\"df-b69c4364-92af-42b5-8f4e-95e53df8849f\">\n",
              "      <button class=\"colab-df-quickchart\" onclick=\"quickchart('df-b69c4364-92af-42b5-8f4e-95e53df8849f')\"\n",
              "                title=\"Suggest charts\"\n",
              "                style=\"display:none;\">\n",
              "\n",
              "<svg xmlns=\"http://www.w3.org/2000/svg\" height=\"24px\"viewBox=\"0 0 24 24\"\n",
              "     width=\"24px\">\n",
              "    <g>\n",
              "        <path d=\"M19 3H5c-1.1 0-2 .9-2 2v14c0 1.1.9 2 2 2h14c1.1 0 2-.9 2-2V5c0-1.1-.9-2-2-2zM9 17H7v-7h2v7zm4 0h-2V7h2v10zm4 0h-2v-4h2v4z\"/>\n",
              "    </g>\n",
              "</svg>\n",
              "      </button>\n",
              "\n",
              "<style>\n",
              "  .colab-df-quickchart {\n",
              "      --bg-color: #E8F0FE;\n",
              "      --fill-color: #1967D2;\n",
              "      --hover-bg-color: #E2EBFA;\n",
              "      --hover-fill-color: #174EA6;\n",
              "      --disabled-fill-color: #AAA;\n",
              "      --disabled-bg-color: #DDD;\n",
              "  }\n",
              "\n",
              "  [theme=dark] .colab-df-quickchart {\n",
              "      --bg-color: #3B4455;\n",
              "      --fill-color: #D2E3FC;\n",
              "      --hover-bg-color: #434B5C;\n",
              "      --hover-fill-color: #FFFFFF;\n",
              "      --disabled-bg-color: #3B4455;\n",
              "      --disabled-fill-color: #666;\n",
              "  }\n",
              "\n",
              "  .colab-df-quickchart {\n",
              "    background-color: var(--bg-color);\n",
              "    border: none;\n",
              "    border-radius: 50%;\n",
              "    cursor: pointer;\n",
              "    display: none;\n",
              "    fill: var(--fill-color);\n",
              "    height: 32px;\n",
              "    padding: 0;\n",
              "    width: 32px;\n",
              "  }\n",
              "\n",
              "  .colab-df-quickchart:hover {\n",
              "    background-color: var(--hover-bg-color);\n",
              "    box-shadow: 0 1px 2px rgba(60, 64, 67, 0.3), 0 1px 3px 1px rgba(60, 64, 67, 0.15);\n",
              "    fill: var(--button-hover-fill-color);\n",
              "  }\n",
              "\n",
              "  .colab-df-quickchart-complete:disabled,\n",
              "  .colab-df-quickchart-complete:disabled:hover {\n",
              "    background-color: var(--disabled-bg-color);\n",
              "    fill: var(--disabled-fill-color);\n",
              "    box-shadow: none;\n",
              "  }\n",
              "\n",
              "  .colab-df-spinner {\n",
              "    border: 2px solid var(--fill-color);\n",
              "    border-color: transparent;\n",
              "    border-bottom-color: var(--fill-color);\n",
              "    animation:\n",
              "      spin 1s steps(1) infinite;\n",
              "  }\n",
              "\n",
              "  @keyframes spin {\n",
              "    0% {\n",
              "      border-color: transparent;\n",
              "      border-bottom-color: var(--fill-color);\n",
              "      border-left-color: var(--fill-color);\n",
              "    }\n",
              "    20% {\n",
              "      border-color: transparent;\n",
              "      border-left-color: var(--fill-color);\n",
              "      border-top-color: var(--fill-color);\n",
              "    }\n",
              "    30% {\n",
              "      border-color: transparent;\n",
              "      border-left-color: var(--fill-color);\n",
              "      border-top-color: var(--fill-color);\n",
              "      border-right-color: var(--fill-color);\n",
              "    }\n",
              "    40% {\n",
              "      border-color: transparent;\n",
              "      border-right-color: var(--fill-color);\n",
              "      border-top-color: var(--fill-color);\n",
              "    }\n",
              "    60% {\n",
              "      border-color: transparent;\n",
              "      border-right-color: var(--fill-color);\n",
              "    }\n",
              "    80% {\n",
              "      border-color: transparent;\n",
              "      border-right-color: var(--fill-color);\n",
              "      border-bottom-color: var(--fill-color);\n",
              "    }\n",
              "    90% {\n",
              "      border-color: transparent;\n",
              "      border-bottom-color: var(--fill-color);\n",
              "    }\n",
              "  }\n",
              "</style>\n",
              "\n",
              "      <script>\n",
              "        async function quickchart(key) {\n",
              "          const quickchartButtonEl =\n",
              "            document.querySelector('#' + key + ' button');\n",
              "          quickchartButtonEl.disabled = true;  // To prevent multiple clicks.\n",
              "          quickchartButtonEl.classList.add('colab-df-spinner');\n",
              "          try {\n",
              "            const charts = await google.colab.kernel.invokeFunction(\n",
              "                'suggestCharts', [key], {});\n",
              "          } catch (error) {\n",
              "            console.error('Error during call to suggestCharts:', error);\n",
              "          }\n",
              "          quickchartButtonEl.classList.remove('colab-df-spinner');\n",
              "          quickchartButtonEl.classList.add('colab-df-quickchart-complete');\n",
              "        }\n",
              "        (() => {\n",
              "          let quickchartButtonEl =\n",
              "            document.querySelector('#df-b69c4364-92af-42b5-8f4e-95e53df8849f button');\n",
              "          quickchartButtonEl.style.display =\n",
              "            google.colab.kernel.accessAllowed ? 'block' : 'none';\n",
              "        })();\n",
              "      </script>\n",
              "    </div>\n",
              "\n",
              "    </div>\n",
              "  </div>\n"
            ],
            "application/vnd.google.colaboratory.intrinsic+json": {
              "type": "dataframe",
              "variable_name": "ad_campaign"
            }
          },
          "metadata": {},
          "execution_count": 4
        }
      ]
    },
    {
      "cell_type": "markdown",
      "source": [
        "# EDA"
      ],
      "metadata": {
        "id": "TqpClofPnZoj"
      }
    },
    {
      "cell_type": "code",
      "source": [
        "ad_campaign.info()"
      ],
      "metadata": {
        "colab": {
          "base_uri": "https://localhost:8080/"
        },
        "id": "S-2sz6ixr1kh",
        "outputId": "a073f9d9-4ff8-4d25-fff1-5734e97093a7"
      },
      "execution_count": 5,
      "outputs": [
        {
          "output_type": "stream",
          "name": "stdout",
          "text": [
            "<class 'pandas.core.frame.DataFrame'>\n",
            "RangeIndex: 588101 entries, 0 to 588100\n",
            "Data columns (total 7 columns):\n",
            " #   Column         Non-Null Count   Dtype \n",
            "---  ------         --------------   ----- \n",
            " 0   Unnamed: 0     588101 non-null  int64 \n",
            " 1   user id        588101 non-null  int64 \n",
            " 2   test group     588101 non-null  object\n",
            " 3   converted      588101 non-null  bool  \n",
            " 4   total ads      588101 non-null  int64 \n",
            " 5   most ads day   588101 non-null  object\n",
            " 6   most ads hour  588101 non-null  int64 \n",
            "dtypes: bool(1), int64(4), object(2)\n",
            "memory usage: 27.5+ MB\n"
          ]
        }
      ]
    },
    {
      "cell_type": "markdown",
      "source": [
        "Consistency Check"
      ],
      "metadata": {
        "id": "e7wn8Z01sBRW"
      }
    },
    {
      "cell_type": "code",
      "source": [
        "# Check unique weekdays\n",
        "ad_campaign['most ads day'].unique()"
      ],
      "metadata": {
        "colab": {
          "base_uri": "https://localhost:8080/"
        },
        "id": "DqY9WQb-sILA",
        "outputId": "a1d4e67a-af15-44b0-dc20-6e758c8b0a82"
      },
      "execution_count": null,
      "outputs": [
        {
          "output_type": "execute_result",
          "data": {
            "text/plain": [
              "array(['Monday', 'Tuesday', 'Friday', 'Saturday', 'Wednesday', 'Sunday',\n",
              "       'Thursday'], dtype=object)"
            ]
          },
          "metadata": {},
          "execution_count": 5
        }
      ]
    },
    {
      "cell_type": "code",
      "source": [
        "# Check unique hours\n",
        "np.sort(ad_campaign['most ads hour'].unique())"
      ],
      "metadata": {
        "colab": {
          "base_uri": "https://localhost:8080/"
        },
        "id": "FkN3QD6zsQ41",
        "outputId": "cf19fa2d-bb99-4303-b92a-3f152bbac6f4"
      },
      "execution_count": null,
      "outputs": [
        {
          "output_type": "execute_result",
          "data": {
            "text/plain": [
              "array([ 0,  1,  2,  3,  4,  5,  6,  7,  8,  9, 10, 11, 12, 13, 14, 15, 16,\n",
              "       17, 18, 19, 20, 21, 22, 23])"
            ]
          },
          "metadata": {},
          "execution_count": 6
        }
      ]
    },
    {
      "cell_type": "code",
      "source": [
        "# Check test_groups\n",
        "ad_campaign['test group'].unique()"
      ],
      "metadata": {
        "colab": {
          "base_uri": "https://localhost:8080/"
        },
        "id": "UWKRLvDCsVNY",
        "outputId": "3a1035c5-5e9b-483b-8ee7-82babe5c9604"
      },
      "execution_count": null,
      "outputs": [
        {
          "output_type": "execute_result",
          "data": {
            "text/plain": [
              "array(['ad', 'psa'], dtype=object)"
            ]
          },
          "metadata": {},
          "execution_count": 7
        }
      ]
    },
    {
      "cell_type": "markdown",
      "source": [
        "Missing Values Check"
      ],
      "metadata": {
        "id": "WplXtJ1MsX7H"
      }
    },
    {
      "cell_type": "code",
      "source": [
        "ad_campaign.isna().sum()"
      ],
      "metadata": {
        "colab": {
          "base_uri": "https://localhost:8080/",
          "height": 303
        },
        "id": "3h4z-PujsaqG",
        "outputId": "7c11d077-85fb-46aa-f395-b65241ad6ad6"
      },
      "execution_count": 6,
      "outputs": [
        {
          "output_type": "execute_result",
          "data": {
            "text/plain": [
              "Unnamed: 0       0\n",
              "user id          0\n",
              "test group       0\n",
              "converted        0\n",
              "total ads        0\n",
              "most ads day     0\n",
              "most ads hour    0\n",
              "dtype: int64"
            ],
            "text/html": [
              "<div>\n",
              "<style scoped>\n",
              "    .dataframe tbody tr th:only-of-type {\n",
              "        vertical-align: middle;\n",
              "    }\n",
              "\n",
              "    .dataframe tbody tr th {\n",
              "        vertical-align: top;\n",
              "    }\n",
              "\n",
              "    .dataframe thead th {\n",
              "        text-align: right;\n",
              "    }\n",
              "</style>\n",
              "<table border=\"1\" class=\"dataframe\">\n",
              "  <thead>\n",
              "    <tr style=\"text-align: right;\">\n",
              "      <th></th>\n",
              "      <th>0</th>\n",
              "    </tr>\n",
              "  </thead>\n",
              "  <tbody>\n",
              "    <tr>\n",
              "      <th>Unnamed: 0</th>\n",
              "      <td>0</td>\n",
              "    </tr>\n",
              "    <tr>\n",
              "      <th>user id</th>\n",
              "      <td>0</td>\n",
              "    </tr>\n",
              "    <tr>\n",
              "      <th>test group</th>\n",
              "      <td>0</td>\n",
              "    </tr>\n",
              "    <tr>\n",
              "      <th>converted</th>\n",
              "      <td>0</td>\n",
              "    </tr>\n",
              "    <tr>\n",
              "      <th>total ads</th>\n",
              "      <td>0</td>\n",
              "    </tr>\n",
              "    <tr>\n",
              "      <th>most ads day</th>\n",
              "      <td>0</td>\n",
              "    </tr>\n",
              "    <tr>\n",
              "      <th>most ads hour</th>\n",
              "      <td>0</td>\n",
              "    </tr>\n",
              "  </tbody>\n",
              "</table>\n",
              "</div><br><label><b>dtype:</b> int64</label>"
            ]
          },
          "metadata": {},
          "execution_count": 6
        }
      ]
    },
    {
      "cell_type": "markdown",
      "source": [
        "**Outliers Investigation**\n",
        "\n",
        "The 5% rule guideline:\n",
        "\n",
        "* < 1%: Safe to remove\n",
        "* 1-5%: Investigate before removing\n",
        "* 5%: Keep outliers, they might represent important patterns\n",
        "\n",
        "The 5% rule is a guideline, not a strict rule. The decision should be based on business context, impact on results, and analysis goals."
      ],
      "metadata": {
        "id": "83N7-_vMsnBg"
      }
    },
    {
      "cell_type": "code",
      "source": [
        "# Calculate data quantiles\n",
        "Q1 = ad_campaign['total ads'].quantile(0.25)\n",
        "Q3 = ad_campaign['total ads'].quantile(0.75)\n",
        "IQR = Q3 - Q1\n",
        "\n",
        "down_limit = Q1 - 1.5 * IQR\n",
        "upper_limit = Q3 + 1.5 * IQR\n",
        "\n",
        "# Find outliers\n",
        "outliers = ad_campaign[(ad_campaign['total ads'] < down_limit) | (ad_campaign['total ads'] > upper_limit)]\n",
        "\n",
        "# Count outliers\n",
        "n_outliers = len(outliers)\n",
        "total_records = len(ad_campaign)\n",
        "outlier_percentage = (n_outliers / total_records) * 100\n",
        "\n",
        "print(f\"Total Number of records: {total_records}\")\n",
        "print(f\"Number of outliers: {n_outliers}\")\n",
        "print(f\"Percentage of outliers: {outlier_percentage:.2f}%\")"
      ],
      "metadata": {
        "colab": {
          "base_uri": "https://localhost:8080/"
        },
        "id": "EUuZUtV3s483",
        "outputId": "2b286075-9e72-4438-e6e4-efd1735bf5f3"
      },
      "execution_count": 7,
      "outputs": [
        {
          "output_type": "stream",
          "name": "stdout",
          "text": [
            "Total Number of records: 588101\n",
            "Number of outliers: 52057\n",
            "Percentage of outliers: 8.85%\n"
          ]
        }
      ]
    },
    {
      "cell_type": "code",
      "source": [
        "# Basic statistics of outliers vs non-outliers\n",
        "print('Outliers Statistics')\n",
        "print(outliers['total ads'].describe())\n",
        "print('\\nNon-Outliers Statistics')\n",
        "print(ad_campaign[~ad_campaign.index.isin(outliers.index)]['total ads'].describe())"
      ],
      "metadata": {
        "colab": {
          "base_uri": "https://localhost:8080/"
        },
        "id": "auKOELwntBmg",
        "outputId": "1f1358c3-beef-4232-d7dd-ee6bc2e26579"
      },
      "execution_count": null,
      "outputs": [
        {
          "output_type": "stream",
          "name": "stdout",
          "text": [
            "Outliers Statistics\n",
            "count   52057.0000\n",
            "mean      124.5689\n",
            "std        92.9344\n",
            "min        62.0000\n",
            "25%        74.0000\n",
            "50%        94.0000\n",
            "75%       136.0000\n",
            "max      2065.0000\n",
            "Name: total ads, dtype: float64\n",
            "\n",
            "Non-Outliers Statistics\n",
            "count   536044.0000\n",
            "mean        15.1340\n",
            "std         14.0636\n",
            "min          1.0000\n",
            "25%          4.0000\n",
            "50%         11.0000\n",
            "75%         22.0000\n",
            "max         61.0000\n",
            "Name: total ads, dtype: float64\n"
          ]
        }
      ]
    },
    {
      "cell_type": "code",
      "source": [
        "# Visualize the 'total_ads' distribution\n",
        "# Create a figure with two subplots\n",
        "fig, (ax1, ax2) = plt.subplots(2, 1, height_ratios=[2, 1])\n",
        "\n",
        "# First subplot: KDE plots for both outliers and non-outliers\n",
        "sns.kdeplot( data=ad_campaign[~ad_campaign.index.isin(outliers.index)]['total ads'], label='Non-outliers',\n",
        "    fill=True,\n",
        "    alpha=0.7,\n",
        "    color=custom_colors[3],\n",
        "    ax=ax1\n",
        ")\n",
        "\n",
        "sns.kdeplot(data=outliers['total ads'], label='Outliers', fill=True, alpha=0.7,\n",
        "    color=custom_colors[4],\n",
        "    ax=ax1\n",
        ")\n",
        "\n",
        "# Add vertical lines for outlier boundaries in first subplot\n",
        "ax1.axvline(x=down_limit, color='black', linestyle='--', alpha=0.3, label='Lower bound')\n",
        "ax1.axvline(x=upper_limit, color='black', linestyle='--', alpha=0.3, label='Upper bound')\n",
        "ax1.axvline(x=outliers['total ads'].max(), color=custom_colors[4], linestyle='-', alpha=0.5, label='Max Outlier')\n",
        "\n",
        "# Customize first subplot\n",
        "ax1.set_xlabel('total_ads')\n",
        "ax1.set_ylabel('Density')\n",
        "ax1.xaxis.set_major_locator(ticker.MultipleLocator(200))\n",
        "ax1.legend(title='Groups', loc='upper right')\n",
        "\n",
        "# Second subplot: Boxplot of 'total_ads' distribution\n",
        "sns.boxplot(x=ad_campaign['total ads'], ax=ax2, color=custom_colors[3], boxprops=dict(alpha=.7),\n",
        "           linewidth=1, flierprops={'marker': 'o', 'markersize': 2, 'markerfacecolor': custom_colors[4],\n",
        "           'markeredgecolor': custom_colors[4]})\n",
        "\n",
        "ax2.set_xlabel('total ads')\n",
        "ax2.xaxis.set_major_locator(ticker.MultipleLocator(200))\n",
        "\n",
        "# Add figure title\n",
        "fig.suptitle('Distribution Comparison: Outliers vs Non-outliers')\n",
        "# Adjust layout to prevent overlap\n",
        "plt.tight_layout()\n",
        "# Remove the top and right spines\n",
        "[ax.spines[side].set_visible(False) for ax in [ax1, ax2] for side in ['top', 'right']]\n",
        "plt.show()"
      ],
      "metadata": {
        "colab": {
          "base_uri": "https://localhost:8080/",
          "height": 609
        },
        "id": "e_MrqfVxtfvJ",
        "outputId": "c2c3602e-5c92-42d6-e19d-a9992c49ae16"
      },
      "execution_count": 8,
      "outputs": [
        {
          "output_type": "display_data",
          "data": {
            "text/plain": [
              "<Figure size 1200x600 with 2 Axes>"
            ],
            "image/png": "[encoded data removed]"
          },
          "metadata": {
            "image/png": {
              "width": 1190,
              "height": 592
            }
          }
        }
      ]
    },
    {
      "cell_type": "code",
      "source": [
        "# Create a filtered df without outliers\n",
        "no_outliers_df = ad_campaign[~ad_campaign.index.isin(outliers.index)]\n",
        "\n",
        "# Calculate avg seen ads with/without outliers\n",
        "mean_ads_overall = ad_campaign['total ads'].mean()\n",
        "mean_ads_no_outliers = no_outliers_df['total ads'].mean()\n",
        "print(f'Avg. ads seen overall: {mean_ads_overall:.0f} ads')\n",
        "print(f'Avg. ads seen without outliers: {mean_ads_no_outliers:.0f} ads')"
      ],
      "metadata": {
        "colab": {
          "base_uri": "https://localhost:8080/"
        },
        "id": "_EzehGZNtzfs",
        "outputId": "5c236562-fef5-43ae-8b91-7a580c96c7aa"
      },
      "execution_count": 9,
      "outputs": [
        {
          "output_type": "stream",
          "name": "stdout",
          "text": [
            "Avg. ads seen overall: 25 ads\n",
            "Avg. ads seen without outliers: 15 ads\n"
          ]
        }
      ]
    },
    {
      "cell_type": "code",
      "source": [
        "# Calculate overall conversion rate\n",
        "conversion_rate = (ad_campaign['converted'] == True).mean() * 100\n",
        "print(f'Overal conversion rate (with outliers): {conversion_rate:.2f}%')\n",
        "\n",
        "# Calculate conversion rate for the filtered dataset\n",
        "no_outliers_conversion_rate = (no_outliers_df['converted'] == True).mean() * 100\n",
        "print(f'Conversion rate without outliers: {no_outliers_conversion_rate:.2f}%')\n",
        "\n",
        "# Calculate the relative difference in conversion rates\n",
        "relative_diff = ((conversion_rate - no_outliers_conversion_rate) / conversion_rate) * 100\n",
        "print(f\"\\nRelative difference in conversion rates: {relative_diff:.2f}%\")"
      ],
      "metadata": {
        "colab": {
          "base_uri": "https://localhost:8080/"
        },
        "id": "NFBZSapSt7ab",
        "outputId": "8109f858-9c26-481a-fce3-b221d042e9c6"
      },
      "execution_count": 10,
      "outputs": [
        {
          "output_type": "stream",
          "name": "stdout",
          "text": [
            "Overal conversion rate (with outliers): 2.52%\n",
            "Conversion rate without outliers: 1.33%\n",
            "\n",
            "Relative difference in conversion rates: 47.41%\n"
          ]
        }
      ]
    },
    {
      "cell_type": "markdown",
      "source": [
        "The conversion rate drops by about 47% when removing outliers (from 2.52% to 1.33%)."
      ],
      "metadata": {
        "id": "2E_XOC6HuA6y"
      }
    },
    {
      "cell_type": "code",
      "source": [
        "# Check the origin of outliers\n",
        "print('Outliers conversion distribution by test_group\\n')\n",
        "outliers_pivot = (outliers.groupby('test group')['converted']).value_counts(normalize=True).unstack() * 100\n",
        "outliers_pivot"
      ],
      "metadata": {
        "colab": {
          "base_uri": "https://localhost:8080/",
          "height": 178
        },
        "id": "2SNkIEn0uCTU",
        "outputId": "944a4ce7-3c24-4252-8b1f-9025ce5f2105"
      },
      "execution_count": 11,
      "outputs": [
        {
          "output_type": "stream",
          "name": "stdout",
          "text": [
            "Outliers conversion distribution by test_group\n",
            "\n"
          ]
        },
        {
          "output_type": "execute_result",
          "data": {
            "text/plain": [
              "converted    False   True \n",
              "test group                \n",
              "ad         84.8900 15.1100\n",
              "psa        91.1658  8.8342"
            ],
            "text/html": [
              "\n",
              "  <div id=\"df-ce551abc-bffc-4fb6-a20b-5d67743a2f47\" class=\"colab-df-container\">\n",
              "    <div>\n",
              "<style scoped>\n",
              "    .dataframe tbody tr th:only-of-type {\n",
              "        vertical-align: middle;\n",
              "    }\n",
              "\n",
              "    .dataframe tbody tr th {\n",
              "        vertical-align: top;\n",
              "    }\n",
              "\n",
              "    .dataframe thead th {\n",
              "        text-align: right;\n",
              "    }\n",
              "</style>\n",
              "<table border=\"1\" class=\"dataframe\">\n",
              "  <thead>\n",
              "    <tr style=\"text-align: right;\">\n",
              "      <th>converted</th>\n",
              "      <th>False</th>\n",
              "      <th>True</th>\n",
              "    </tr>\n",
              "    <tr>\n",
              "      <th>test group</th>\n",
              "      <th></th>\n",
              "      <th></th>\n",
              "    </tr>\n",
              "  </thead>\n",
              "  <tbody>\n",
              "    <tr>\n",
              "      <th>ad</th>\n",
              "      <td>84.8900</td>\n",
              "      <td>15.1100</td>\n",
              "    </tr>\n",
              "    <tr>\n",
              "      <th>psa</th>\n",
              "      <td>91.1658</td>\n",
              "      <td>8.8342</td>\n",
              "    </tr>\n",
              "  </tbody>\n",
              "</table>\n",
              "</div>\n",
              "    <div class=\"colab-df-buttons\">\n",
              "\n",
              "  <div class=\"colab-df-container\">\n",
              "    <button class=\"colab-df-convert\" onclick=\"convertToInteractive('df-ce551abc-bffc-4fb6-a20b-5d67743a2f47')\"\n",
              "            title=\"Convert this dataframe to an interactive table.\"\n",
              "            style=\"display:none;\">\n",
              "\n",
              "  <svg xmlns=\"http://www.w3.org/2000/svg\" height=\"24px\" viewBox=\"0 -960 960 960\">\n",
              "    <path d=\"M120-120v-720h720v720H120Zm60-500h600v-160H180v160Zm220 220h160v-160H400v160Zm0 220h160v-160H400v160ZM180-400h160v-160H180v160Zm440 0h160v-160H620v160ZM180-180h160v-160H180v160Zm440 0h160v-160H620v160Z\"/>\n",
              "  </svg>\n",
              "    </button>\n",
              "\n",
              "  <style>\n",
              "    .colab-df-container {\n",
              "      display:flex;\n",
              "      gap: 12px;\n",
              "    }\n",
              "\n",
              "    .colab-df-convert {\n",
              "      background-color: #E8F0FE;\n",
              "      border: none;\n",
              "      border-radius: 50%;\n",
              "      cursor: pointer;\n",
              "      display: none;\n",
              "      fill: #1967D2;\n",
              "      height: 32px;\n",
              "      padding: 0 0 0 0;\n",
              "      width: 32px;\n",
              "    }\n",
              "\n",
              "    .colab-df-convert:hover {\n",
              "      background-color: #E2EBFA;\n",
              "      box-shadow: 0px 1px 2px rgba(60, 64, 67, 0.3), 0px 1px 3px 1px rgba(60, 64, 67, 0.15);\n",
              "      fill: #174EA6;\n",
              "    }\n",
              "\n",
              "    .colab-df-buttons div {\n",
              "      margin-bottom: 4px;\n",
              "    }\n",
              "\n",
              "    [theme=dark] .colab-df-convert {\n",
              "      background-color: #3B4455;\n",
              "      fill: #D2E3FC;\n",
              "    }\n",
              "\n",
              "    [theme=dark] .colab-df-convert:hover {\n",
              "      background-color: #434B5C;\n",
              "      box-shadow: 0px 1px 3px 1px rgba(0, 0, 0, 0.15);\n",
              "      filter: drop-shadow(0px 1px 2px rgba(0, 0, 0, 0.3));\n",
              "      fill: #FFFFFF;\n",
              "    }\n",
              "  </style>\n",
              "\n",
              "    <script>\n",
              "      const buttonEl =\n",
              "        document.querySelector('#df-ce551abc-bffc-4fb6-a20b-5d67743a2f47 button.colab-df-convert');\n",
              "      buttonEl.style.display =\n",
              "        google.colab.kernel.accessAllowed ? 'block' : 'none';\n",
              "\n",
              "      async function convertToInteractive(key) {\n",
              "        const element = document.querySelector('#df-ce551abc-bffc-4fb6-a20b-5d67743a2f47');\n",
              "        const dataTable =\n",
              "          await google.colab.kernel.invokeFunction('convertToInteractive',\n",
              "                                                    [key], {});\n",
              "        if (!dataTable) return;\n",
              "\n",
              "        const docLinkHtml = 'Like what you see? Visit the ' +\n",
              "          '<a target=\"_blank\" href=https://colab.research.google.com/notebooks/data_table.ipynb>data table notebook</a>'\n",
              "          + ' to learn more about interactive tables.';\n",
              "        element.innerHTML = '';\n",
              "        dataTable['output_type'] = 'display_data';\n",
              "        await google.colab.output.renderOutput(dataTable, element);\n",
              "        const docLink = document.createElement('div');\n",
              "        docLink.innerHTML = docLinkHtml;\n",
              "        element.appendChild(docLink);\n",
              "      }\n",
              "    </script>\n",
              "  </div>\n",
              "\n",
              "\n",
              "    <div id=\"df-cc33fdfb-b88c-4eb5-823c-aa58ae400b83\">\n",
              "      <button class=\"colab-df-quickchart\" onclick=\"quickchart('df-cc33fdfb-b88c-4eb5-823c-aa58ae400b83')\"\n",
              "                title=\"Suggest charts\"\n",
              "                style=\"display:none;\">\n",
              "\n",
              "<svg xmlns=\"http://www.w3.org/2000/svg\" height=\"24px\"viewBox=\"0 0 24 24\"\n",
              "     width=\"24px\">\n",
              "    <g>\n",
              "        <path d=\"M19 3H5c-1.1 0-2 .9-2 2v14c0 1.1.9 2 2 2h14c1.1 0 2-.9 2-2V5c0-1.1-.9-2-2-2zM9 17H7v-7h2v7zm4 0h-2V7h2v10zm4 0h-2v-4h2v4z\"/>\n",
              "    </g>\n",
              "</svg>\n",
              "      </button>\n",
              "\n",
              "<style>\n",
              "  .colab-df-quickchart {\n",
              "      --bg-color: #E8F0FE;\n",
              "      --fill-color: #1967D2;\n",
              "      --hover-bg-color: #E2EBFA;\n",
              "      --hover-fill-color: #174EA6;\n",
              "      --disabled-fill-color: #AAA;\n",
              "      --disabled-bg-color: #DDD;\n",
              "  }\n",
              "\n",
              "  [theme=dark] .colab-df-quickchart {\n",
              "      --bg-color: #3B4455;\n",
              "      --fill-color: #D2E3FC;\n",
              "      --hover-bg-color: #434B5C;\n",
              "      --hover-fill-color: #FFFFFF;\n",
              "      --disabled-bg-color: #3B4455;\n",
              "      --disabled-fill-color: #666;\n",
              "  }\n",
              "\n",
              "  .colab-df-quickchart {\n",
              "    background-color: var(--bg-color);\n",
              "    border: none;\n",
              "    border-radius: 50%;\n",
              "    cursor: pointer;\n",
              "    display: none;\n",
              "    fill: var(--fill-color);\n",
              "    height: 32px;\n",
              "    padding: 0;\n",
              "    width: 32px;\n",
              "  }\n",
              "\n",
              "  .colab-df-quickchart:hover {\n",
              "    background-color: var(--hover-bg-color);\n",
              "    box-shadow: 0 1px 2px rgba(60, 64, 67, 0.3), 0 1px 3px 1px rgba(60, 64, 67, 0.15);\n",
              "    fill: var(--button-hover-fill-color);\n",
              "  }\n",
              "\n",
              "  .colab-df-quickchart-complete:disabled,\n",
              "  .colab-df-quickchart-complete:disabled:hover {\n",
              "    background-color: var(--disabled-bg-color);\n",
              "    fill: var(--disabled-fill-color);\n",
              "    box-shadow: none;\n",
              "  }\n",
              "\n",
              "  .colab-df-spinner {\n",
              "    border: 2px solid var(--fill-color);\n",
              "    border-color: transparent;\n",
              "    border-bottom-color: var(--fill-color);\n",
              "    animation:\n",
              "      spin 1s steps(1) infinite;\n",
              "  }\n",
              "\n",
              "  @keyframes spin {\n",
              "    0% {\n",
              "      border-color: transparent;\n",
              "      border-bottom-color: var(--fill-color);\n",
              "      border-left-color: var(--fill-color);\n",
              "    }\n",
              "    20% {\n",
              "      border-color: transparent;\n",
              "      border-left-color: var(--fill-color);\n",
              "      border-top-color: var(--fill-color);\n",
              "    }\n",
              "    30% {\n",
              "      border-color: transparent;\n",
              "      border-left-color: var(--fill-color);\n",
              "      border-top-color: var(--fill-color);\n",
              "      border-right-color: var(--fill-color);\n",
              "    }\n",
              "    40% {\n",
              "      border-color: transparent;\n",
              "      border-right-color: var(--fill-color);\n",
              "      border-top-color: var(--fill-color);\n",
              "    }\n",
              "    60% {\n",
              "      border-color: transparent;\n",
              "      border-right-color: var(--fill-color);\n",
              "    }\n",
              "    80% {\n",
              "      border-color: transparent;\n",
              "      border-right-color: var(--fill-color);\n",
              "      border-bottom-color: var(--fill-color);\n",
              "    }\n",
              "    90% {\n",
              "      border-color: transparent;\n",
              "      border-bottom-color: var(--fill-color);\n",
              "    }\n",
              "  }\n",
              "</style>\n",
              "\n",
              "      <script>\n",
              "        async function quickchart(key) {\n",
              "          const quickchartButtonEl =\n",
              "            document.querySelector('#' + key + ' button');\n",
              "          quickchartButtonEl.disabled = true;  // To prevent multiple clicks.\n",
              "          quickchartButtonEl.classList.add('colab-df-spinner');\n",
              "          try {\n",
              "            const charts = await google.colab.kernel.invokeFunction(\n",
              "                'suggestCharts', [key], {});\n",
              "          } catch (error) {\n",
              "            console.error('Error during call to suggestCharts:', error);\n",
              "          }\n",
              "          quickchartButtonEl.classList.remove('colab-df-spinner');\n",
              "          quickchartButtonEl.classList.add('colab-df-quickchart-complete');\n",
              "        }\n",
              "        (() => {\n",
              "          let quickchartButtonEl =\n",
              "            document.querySelector('#df-cc33fdfb-b88c-4eb5-823c-aa58ae400b83 button');\n",
              "          quickchartButtonEl.style.display =\n",
              "            google.colab.kernel.accessAllowed ? 'block' : 'none';\n",
              "        })();\n",
              "      </script>\n",
              "    </div>\n",
              "\n",
              "  <div id=\"id_5514a570-706b-47a7-b247-ed0ae547866a\">\n",
              "    <style>\n",
              "      .colab-df-generate {\n",
              "        background-color: #E8F0FE;\n",
              "        border: none;\n",
              "        border-radius: 50%;\n",
              "        cursor: pointer;\n",
              "        display: none;\n",
              "        fill: #1967D2;\n",
              "        height: 32px;\n",
              "        padding: 0 0 0 0;\n",
              "        width: 32px;\n",
              "      }\n",
              "\n",
              "      .colab-df-generate:hover {\n",
              "        background-color: #E2EBFA;\n",
              "        box-shadow: 0px 1px 2px rgba(60, 64, 67, 0.3), 0px 1px 3px 1px rgba(60, 64, 67, 0.15);\n",
              "        fill: #174EA6;\n",
              "      }\n",
              "\n",
              "      [theme=dark] .colab-df-generate {\n",
              "        background-color: #3B4455;\n",
              "        fill: #D2E3FC;\n",
              "      }\n",
              "\n",
              "      [theme=dark] .colab-df-generate:hover {\n",
              "        background-color: #434B5C;\n",
              "        box-shadow: 0px 1px 3px 1px rgba(0, 0, 0, 0.15);\n",
              "        filter: drop-shadow(0px 1px 2px rgba(0, 0, 0, 0.3));\n",
              "        fill: #FFFFFF;\n",
              "      }\n",
              "    </style>\n",
              "    <button class=\"colab-df-generate\" onclick=\"generateWithVariable('outliers_pivot')\"\n",
              "            title=\"Generate code using this dataframe.\"\n",
              "            style=\"display:none;\">\n",
              "\n",
              "  <svg xmlns=\"http://www.w3.org/2000/svg\" height=\"24px\"viewBox=\"0 0 24 24\"\n",
              "       width=\"24px\">\n",
              "    <path d=\"M7,19H8.4L18.45,9,17,7.55,7,17.6ZM5,21V16.75L18.45,3.32a2,2,0,0,1,2.83,0l1.4,1.43a1.91,1.91,0,0,1,.58,1.4,1.91,1.91,0,0,1-.58,1.4L9.25,21ZM18.45,9,17,7.55Zm-12,3A5.31,5.31,0,0,0,4.9,8.1,5.31,5.31,0,0,0,1,6.5,5.31,5.31,0,0,0,4.9,4.9,5.31,5.31,0,0,0,6.5,1,5.31,5.31,0,0,0,8.1,4.9,5.31,5.31,0,0,0,12,6.5,5.46,5.46,0,0,0,6.5,12Z\"/>\n",
              "  </svg>\n",
              "    </button>\n",
              "    <script>\n",
              "      (() => {\n",
              "      const buttonEl =\n",
              "        document.querySelector('#id_5514a570-706b-47a7-b247-ed0ae547866a button.colab-df-generate');\n",
              "      buttonEl.style.display =\n",
              "        google.colab.kernel.accessAllowed ? 'block' : 'none';\n",
              "\n",
              "      buttonEl.onclick = () => {\n",
              "        google.colab.notebook.generateWithVariable('outliers_pivot');\n",
              "      }\n",
              "      })();\n",
              "    </script>\n",
              "  </div>\n",
              "\n",
              "    </div>\n",
              "  </div>\n"
            ],
            "application/vnd.google.colaboratory.intrinsic+json": {
              "type": "dataframe",
              "variable_name": "outliers_pivot",
              "summary": "{\n  \"name\": \"outliers_pivot\",\n  \"rows\": 2,\n  \"fields\": [\n    {\n      \"column\": \"test group\",\n      \"properties\": {\n        \"dtype\": \"string\",\n        \"num_unique_values\": 2,\n        \"samples\": [\n          \"psa\",\n          \"ad\"\n        ],\n        \"semantic_type\": \"\",\n        \"description\": \"\"\n      }\n    },\n    {\n      \"column\": false,\n      \"properties\": {\n        \"dtype\": \"number\",\n        \"std\": 4.437633680653094,\n        \"min\": 84.88999418383105,\n        \"max\": 91.16575591985429,\n        \"num_unique_values\": 2,\n        \"samples\": [\n          91.16575591985429,\n          84.88999418383105\n        ],\n        \"semantic_type\": \"\",\n        \"description\": \"\"\n      }\n    },\n    {\n      \"column\": true,\n      \"properties\": {\n        \"dtype\": \"number\",\n        \"std\": 4.437633680653087,\n        \"min\": 8.83424408014572,\n        \"max\": 15.11000581616895,\n        \"num_unique_values\": 2,\n        \"samples\": [\n          8.83424408014572,\n          15.11000581616895\n        ],\n        \"semantic_type\": \"\",\n        \"description\": \"\"\n      }\n    }\n  ]\n}"
            }
          },
          "metadata": {},
          "execution_count": 11
        }
      ]
    },
    {
      "cell_type": "markdown",
      "source": [
        "Only 15% of those who saw an ad was converted (among outliers). It indicates that the enormous amount of ads seen by users weakly affects the conversion."
      ],
      "metadata": {
        "id": "s5nwMWswuWCw"
      }
    },
    {
      "cell_type": "code",
      "source": [
        "# Check the percent of converted users among outliers\n",
        "outliers_conversion = outliers['converted'].value_counts(normalize=True).mul(100).round(2).reset_index()\n",
        "print(f'Outliers Conversion Rate: {outliers_conversion.iloc[1,1]:.2f} %')"
      ],
      "metadata": {
        "colab": {
          "base_uri": "https://localhost:8080/"
        },
        "id": "00WNBKI7uXLy",
        "outputId": "cce2efad-2773-4dc2-bbca-619037089075"
      },
      "execution_count": 12,
      "outputs": [
        {
          "output_type": "stream",
          "name": "stdout",
          "text": [
            "Outliers Conversion Rate: 14.85 %\n"
          ]
        }
      ]
    },
    {
      "cell_type": "markdown",
      "source": [
        "**Preprocessing**"
      ],
      "metadata": {
        "id": "HGmTfGdOulJw"
      }
    },
    {
      "cell_type": "code",
      "source": [
        "ad_campaign.head(1)"
      ],
      "metadata": {
        "colab": {
          "base_uri": "https://localhost:8080/",
          "height": 81
        },
        "id": "QaqhR17Yur_B",
        "outputId": "9a9035b3-94e1-45f0-87ce-b34afb423e4a"
      },
      "execution_count": 16,
      "outputs": [
        {
          "output_type": "execute_result",
          "data": {
            "text/plain": [
              "   Unnamed: 0  user_id test_group  converted  total_ads most_ads_day  \\\n",
              "0           0  1069124         ad      False        130       Monday   \n",
              "\n",
              "   most_ads_hour  \n",
              "0             20  "
            ],
            "text/html": [
              "\n",
              "  <div id=\"df-faf2ab9c-d966-4bc0-a1d0-768dbe616656\" class=\"colab-df-container\">\n",
              "    <div>\n",
              "<style scoped>\n",
              "    .dataframe tbody tr th:only-of-type {\n",
              "        vertical-align: middle;\n",
              "    }\n",
              "\n",
              "    .dataframe tbody tr th {\n",
              "        vertical-align: top;\n",
              "    }\n",
              "\n",
              "    .dataframe thead th {\n",
              "        text-align: right;\n",
              "    }\n",
              "</style>\n",
              "<table border=\"1\" class=\"dataframe\">\n",
              "  <thead>\n",
              "    <tr style=\"text-align: right;\">\n",
              "      <th></th>\n",
              "      <th>Unnamed: 0</th>\n",
              "      <th>user_id</th>\n",
              "      <th>test_group</th>\n",
              "      <th>converted</th>\n",
              "      <th>total_ads</th>\n",
              "      <th>most_ads_day</th>\n",
              "      <th>most_ads_hour</th>\n",
              "    </tr>\n",
              "  </thead>\n",
              "  <tbody>\n",
              "    <tr>\n",
              "      <th>0</th>\n",
              "      <td>0</td>\n",
              "      <td>1069124</td>\n",
              "      <td>ad</td>\n",
              "      <td>False</td>\n",
              "      <td>130</td>\n",
              "      <td>Monday</td>\n",
              "      <td>20</td>\n",
              "    </tr>\n",
              "  </tbody>\n",
              "</table>\n",
              "</div>\n",
              "    <div class=\"colab-df-buttons\">\n",
              "\n",
              "  <div class=\"colab-df-container\">\n",
              "    <button class=\"colab-df-convert\" onclick=\"convertToInteractive('df-faf2ab9c-d966-4bc0-a1d0-768dbe616656')\"\n",
              "            title=\"Convert this dataframe to an interactive table.\"\n",
              "            style=\"display:none;\">\n",
              "\n",
              "  <svg xmlns=\"http://www.w3.org/2000/svg\" height=\"24px\" viewBox=\"0 -960 960 960\">\n",
              "    <path d=\"M120-120v-720h720v720H120Zm60-500h600v-160H180v160Zm220 220h160v-160H400v160Zm0 220h160v-160H400v160ZM180-400h160v-160H180v160Zm440 0h160v-160H620v160ZM180-180h160v-160H180v160Zm440 0h160v-160H620v160Z\"/>\n",
              "  </svg>\n",
              "    </button>\n",
              "\n",
              "  <style>\n",
              "    .colab-df-container {\n",
              "      display:flex;\n",
              "      gap: 12px;\n",
              "    }\n",
              "\n",
              "    .colab-df-convert {\n",
              "      background-color: #E8F0FE;\n",
              "      border: none;\n",
              "      border-radius: 50%;\n",
              "      cursor: pointer;\n",
              "      display: none;\n",
              "      fill: #1967D2;\n",
              "      height: 32px;\n",
              "      padding: 0 0 0 0;\n",
              "      width: 32px;\n",
              "    }\n",
              "\n",
              "    .colab-df-convert:hover {\n",
              "      background-color: #E2EBFA;\n",
              "      box-shadow: 0px 1px 2px rgba(60, 64, 67, 0.3), 0px 1px 3px 1px rgba(60, 64, 67, 0.15);\n",
              "      fill: #174EA6;\n",
              "    }\n",
              "\n",
              "    .colab-df-buttons div {\n",
              "      margin-bottom: 4px;\n",
              "    }\n",
              "\n",
              "    [theme=dark] .colab-df-convert {\n",
              "      background-color: #3B4455;\n",
              "      fill: #D2E3FC;\n",
              "    }\n",
              "\n",
              "    [theme=dark] .colab-df-convert:hover {\n",
              "      background-color: #434B5C;\n",
              "      box-shadow: 0px 1px 3px 1px rgba(0, 0, 0, 0.15);\n",
              "      filter: drop-shadow(0px 1px 2px rgba(0, 0, 0, 0.3));\n",
              "      fill: #FFFFFF;\n",
              "    }\n",
              "  </style>\n",
              "\n",
              "    <script>\n",
              "      const buttonEl =\n",
              "        document.querySelector('#df-faf2ab9c-d966-4bc0-a1d0-768dbe616656 button.colab-df-convert');\n",
              "      buttonEl.style.display =\n",
              "        google.colab.kernel.accessAllowed ? 'block' : 'none';\n",
              "\n",
              "      async function convertToInteractive(key) {\n",
              "        const element = document.querySelector('#df-faf2ab9c-d966-4bc0-a1d0-768dbe616656');\n",
              "        const dataTable =\n",
              "          await google.colab.kernel.invokeFunction('convertToInteractive',\n",
              "                                                    [key], {});\n",
              "        if (!dataTable) return;\n",
              "\n",
              "        const docLinkHtml = 'Like what you see? Visit the ' +\n",
              "          '<a target=\"_blank\" href=https://colab.research.google.com/notebooks/data_table.ipynb>data table notebook</a>'\n",
              "          + ' to learn more about interactive tables.';\n",
              "        element.innerHTML = '';\n",
              "        dataTable['output_type'] = 'display_data';\n",
              "        await google.colab.output.renderOutput(dataTable, element);\n",
              "        const docLink = document.createElement('div');\n",
              "        docLink.innerHTML = docLinkHtml;\n",
              "        element.appendChild(docLink);\n",
              "      }\n",
              "    </script>\n",
              "  </div>\n",
              "\n",
              "\n",
              "    </div>\n",
              "  </div>\n"
            ],
            "application/vnd.google.colaboratory.intrinsic+json": {
              "type": "dataframe",
              "variable_name": "ad_campaign"
            }
          },
          "metadata": {},
          "execution_count": 16
        }
      ]
    },
    {
      "cell_type": "code",
      "source": [
        "ad_campaign.rename(columns={\n",
        "    'user id': 'user_id',\n",
        "    'test group': 'test_group',\n",
        "    'total ads': 'total_ads',\n",
        "    'most ads day': 'most_ads_day',\n",
        "    'most ads hour': 'most_ads_hour'\n",
        "}, inplace=True)"
      ],
      "metadata": {
        "id": "fX3flGNwuyR4"
      },
      "execution_count": 17,
      "outputs": []
    },
    {
      "cell_type": "markdown",
      "source": [
        "Converting Datatypes"
      ],
      "metadata": {
        "id": "GGDegf9wu3Qn"
      }
    },
    {
      "cell_type": "code",
      "source": [
        "# Convert 'converted' field to integer\n",
        "ad_campaign['converted'] = ad_campaign['converted'].astype(int)"
      ],
      "metadata": {
        "id": "f-9oDknRu7eK"
      },
      "execution_count": 18,
      "outputs": []
    },
    {
      "cell_type": "markdown",
      "source": [
        "Removing Outliers"
      ],
      "metadata": {
        "id": "BQ9-1LwuvCgq"
      }
    },
    {
      "cell_type": "code",
      "source": [
        "# df = df[~((df[col] < down_limit) | (df[col] > up_limit))]\n",
        "ad_campaign_clean = ad_campaign[~((ad_campaign['total_ads'] < down_limit) | (ad_campaign['total_ads'] > upper_limit))]\n",
        "ad_campaign_clean = ad_campaign_clean.reset_index(drop=True)\n",
        "ad_campaign_clean.head()"
      ],
      "metadata": {
        "colab": {
          "base_uri": "https://localhost:8080/",
          "height": 206
        },
        "id": "Mp3gBQUdvAyg",
        "outputId": "b0b58048-ad98-4e95-ed6a-af462c474db9"
      },
      "execution_count": 19,
      "outputs": [
        {
          "output_type": "execute_result",
          "data": {
            "text/plain": [
              "   Unnamed: 0  user_id test_group  converted  total_ads most_ads_day  \\\n",
              "0           2  1144181         ad          0         21      Tuesday   \n",
              "1           7  1496843         ad          0         17       Sunday   \n",
              "2           8  1448851         ad          0         21      Tuesday   \n",
              "3          11  1637531         ad          0         47    Wednesday   \n",
              "4          12  1081965         ad          0         61      Tuesday   \n",
              "\n",
              "   most_ads_hour  \n",
              "0             18  \n",
              "1             18  \n",
              "2             19  \n",
              "3             13  \n",
              "4             20  "
            ],
            "text/html": [
              "\n",
              "  <div id=\"df-ceb9a508-208c-4b55-87ef-fca964735924\" class=\"colab-df-container\">\n",
              "    <div>\n",
              "<style scoped>\n",
              "    .dataframe tbody tr th:only-of-type {\n",
              "        vertical-align: middle;\n",
              "    }\n",
              "\n",
              "    .dataframe tbody tr th {\n",
              "        vertical-align: top;\n",
              "    }\n",
              "\n",
              "    .dataframe thead th {\n",
              "        text-align: right;\n",
              "    }\n",
              "</style>\n",
              "<table border=\"1\" class=\"dataframe\">\n",
              "  <thead>\n",
              "    <tr style=\"text-align: right;\">\n",
              "      <th></th>\n",
              "      <th>Unnamed: 0</th>\n",
              "      <th>user_id</th>\n",
              "      <th>test_group</th>\n",
              "      <th>converted</th>\n",
              "      <th>total_ads</th>\n",
              "      <th>most_ads_day</th>\n",
              "      <th>most_ads_hour</th>\n",
              "    </tr>\n",
              "  </thead>\n",
              "  <tbody>\n",
              "    <tr>\n",
              "      <th>0</th>\n",
              "      <td>2</td>\n",
              "      <td>1144181</td>\n",
              "      <td>ad</td>\n",
              "      <td>0</td>\n",
              "      <td>21</td>\n",
              "      <td>Tuesday</td>\n",
              "      <td>18</td>\n",
              "    </tr>\n",
              "    <tr>\n",
              "      <th>1</th>\n",
              "      <td>7</td>\n",
              "      <td>1496843</td>\n",
              "      <td>ad</td>\n",
              "      <td>0</td>\n",
              "      <td>17</td>\n",
              "      <td>Sunday</td>\n",
              "      <td>18</td>\n",
              "    </tr>\n",
              "    <tr>\n",
              "      <th>2</th>\n",
              "      <td>8</td>\n",
              "      <td>1448851</td>\n",
              "      <td>ad</td>\n",
              "      <td>0</td>\n",
              "      <td>21</td>\n",
              "      <td>Tuesday</td>\n",
              "      <td>19</td>\n",
              "    </tr>\n",
              "    <tr>\n",
              "      <th>3</th>\n",
              "      <td>11</td>\n",
              "      <td>1637531</td>\n",
              "      <td>ad</td>\n",
              "      <td>0</td>\n",
              "      <td>47</td>\n",
              "      <td>Wednesday</td>\n",
              "      <td>13</td>\n",
              "    </tr>\n",
              "    <tr>\n",
              "      <th>4</th>\n",
              "      <td>12</td>\n",
              "      <td>1081965</td>\n",
              "      <td>ad</td>\n",
              "      <td>0</td>\n",
              "      <td>61</td>\n",
              "      <td>Tuesday</td>\n",
              "      <td>20</td>\n",
              "    </tr>\n",
              "  </tbody>\n",
              "</table>\n",
              "</div>\n",
              "    <div class=\"colab-df-buttons\">\n",
              "\n",
              "  <div class=\"colab-df-container\">\n",
              "    <button class=\"colab-df-convert\" onclick=\"convertToInteractive('df-ceb9a508-208c-4b55-87ef-fca964735924')\"\n",
              "            title=\"Convert this dataframe to an interactive table.\"\n",
              "            style=\"display:none;\">\n",
              "\n",
              "  <svg xmlns=\"http://www.w3.org/2000/svg\" height=\"24px\" viewBox=\"0 -960 960 960\">\n",
              "    <path d=\"M120-120v-720h720v720H120Zm60-500h600v-160H180v160Zm220 220h160v-160H400v160Zm0 220h160v-160H400v160ZM180-400h160v-160H180v160Zm440 0h160v-160H620v160ZM180-180h160v-160H180v160Zm440 0h160v-160H620v160Z\"/>\n",
              "  </svg>\n",
              "    </button>\n",
              "\n",
              "  <style>\n",
              "    .colab-df-container {\n",
              "      display:flex;\n",
              "      gap: 12px;\n",
              "    }\n",
              "\n",
              "    .colab-df-convert {\n",
              "      background-color: #E8F0FE;\n",
              "      border: none;\n",
              "      border-radius: 50%;\n",
              "      cursor: pointer;\n",
              "      display: none;\n",
              "      fill: #1967D2;\n",
              "      height: 32px;\n",
              "      padding: 0 0 0 0;\n",
              "      width: 32px;\n",
              "    }\n",
              "\n",
              "    .colab-df-convert:hover {\n",
              "      background-color: #E2EBFA;\n",
              "      box-shadow: 0px 1px 2px rgba(60, 64, 67, 0.3), 0px 1px 3px 1px rgba(60, 64, 67, 0.15);\n",
              "      fill: #174EA6;\n",
              "    }\n",
              "\n",
              "    .colab-df-buttons div {\n",
              "      margin-bottom: 4px;\n",
              "    }\n",
              "\n",
              "    [theme=dark] .colab-df-convert {\n",
              "      background-color: #3B4455;\n",
              "      fill: #D2E3FC;\n",
              "    }\n",
              "\n",
              "    [theme=dark] .colab-df-convert:hover {\n",
              "      background-color: #434B5C;\n",
              "      box-shadow: 0px 1px 3px 1px rgba(0, 0, 0, 0.15);\n",
              "      filter: drop-shadow(0px 1px 2px rgba(0, 0, 0, 0.3));\n",
              "      fill: #FFFFFF;\n",
              "    }\n",
              "  </style>\n",
              "\n",
              "    <script>\n",
              "      const buttonEl =\n",
              "        document.querySelector('#df-ceb9a508-208c-4b55-87ef-fca964735924 button.colab-df-convert');\n",
              "      buttonEl.style.display =\n",
              "        google.colab.kernel.accessAllowed ? 'block' : 'none';\n",
              "\n",
              "      async function convertToInteractive(key) {\n",
              "        const element = document.querySelector('#df-ceb9a508-208c-4b55-87ef-fca964735924');\n",
              "        const dataTable =\n",
              "          await google.colab.kernel.invokeFunction('convertToInteractive',\n",
              "                                                    [key], {});\n",
              "        if (!dataTable) return;\n",
              "\n",
              "        const docLinkHtml = 'Like what you see? Visit the ' +\n",
              "          '<a target=\"_blank\" href=https://colab.research.google.com/notebooks/data_table.ipynb>data table notebook</a>'\n",
              "          + ' to learn more about interactive tables.';\n",
              "        element.innerHTML = '';\n",
              "        dataTable['output_type'] = 'display_data';\n",
              "        await google.colab.output.renderOutput(dataTable, element);\n",
              "        const docLink = document.createElement('div');\n",
              "        docLink.innerHTML = docLinkHtml;\n",
              "        element.appendChild(docLink);\n",
              "      }\n",
              "    </script>\n",
              "  </div>\n",
              "\n",
              "\n",
              "    <div id=\"df-9b7409cd-f02e-4bd8-bf4a-bd7b26cd82e4\">\n",
              "      <button class=\"colab-df-quickchart\" onclick=\"quickchart('df-9b7409cd-f02e-4bd8-bf4a-bd7b26cd82e4')\"\n",
              "                title=\"Suggest charts\"\n",
              "                style=\"display:none;\">\n",
              "\n",
              "<svg xmlns=\"http://www.w3.org/2000/svg\" height=\"24px\"viewBox=\"0 0 24 24\"\n",
              "     width=\"24px\">\n",
              "    <g>\n",
              "        <path d=\"M19 3H5c-1.1 0-2 .9-2 2v14c0 1.1.9 2 2 2h14c1.1 0 2-.9 2-2V5c0-1.1-.9-2-2-2zM9 17H7v-7h2v7zm4 0h-2V7h2v10zm4 0h-2v-4h2v4z\"/>\n",
              "    </g>\n",
              "</svg>\n",
              "      </button>\n",
              "\n",
              "<style>\n",
              "  .colab-df-quickchart {\n",
              "      --bg-color: #E8F0FE;\n",
              "      --fill-color: #1967D2;\n",
              "      --hover-bg-color: #E2EBFA;\n",
              "      --hover-fill-color: #174EA6;\n",
              "      --disabled-fill-color: #AAA;\n",
              "      --disabled-bg-color: #DDD;\n",
              "  }\n",
              "\n",
              "  [theme=dark] .colab-df-quickchart {\n",
              "      --bg-color: #3B4455;\n",
              "      --fill-color: #D2E3FC;\n",
              "      --hover-bg-color: #434B5C;\n",
              "      --hover-fill-color: #FFFFFF;\n",
              "      --disabled-bg-color: #3B4455;\n",
              "      --disabled-fill-color: #666;\n",
              "  }\n",
              "\n",
              "  .colab-df-quickchart {\n",
              "    background-color: var(--bg-color);\n",
              "    border: none;\n",
              "    border-radius: 50%;\n",
              "    cursor: pointer;\n",
              "    display: none;\n",
              "    fill: var(--fill-color);\n",
              "    height: 32px;\n",
              "    padding: 0;\n",
              "    width: 32px;\n",
              "  }\n",
              "\n",
              "  .colab-df-quickchart:hover {\n",
              "    background-color: var(--hover-bg-color);\n",
              "    box-shadow: 0 1px 2px rgba(60, 64, 67, 0.3), 0 1px 3px 1px rgba(60, 64, 67, 0.15);\n",
              "    fill: var(--button-hover-fill-color);\n",
              "  }\n",
              "\n",
              "  .colab-df-quickchart-complete:disabled,\n",
              "  .colab-df-quickchart-complete:disabled:hover {\n",
              "    background-color: var(--disabled-bg-color);\n",
              "    fill: var(--disabled-fill-color);\n",
              "    box-shadow: none;\n",
              "  }\n",
              "\n",
              "  .colab-df-spinner {\n",
              "    border: 2px solid var(--fill-color);\n",
              "    border-color: transparent;\n",
              "    border-bottom-color: var(--fill-color);\n",
              "    animation:\n",
              "      spin 1s steps(1) infinite;\n",
              "  }\n",
              "\n",
              "  @keyframes spin {\n",
              "    0% {\n",
              "      border-color: transparent;\n",
              "      border-bottom-color: var(--fill-color);\n",
              "      border-left-color: var(--fill-color);\n",
              "    }\n",
              "    20% {\n",
              "      border-color: transparent;\n",
              "      border-left-color: var(--fill-color);\n",
              "      border-top-color: var(--fill-color);\n",
              "    }\n",
              "    30% {\n",
              "      border-color: transparent;\n",
              "      border-left-color: var(--fill-color);\n",
              "      border-top-color: var(--fill-color);\n",
              "      border-right-color: var(--fill-color);\n",
              "    }\n",
              "    40% {\n",
              "      border-color: transparent;\n",
              "      border-right-color: var(--fill-color);\n",
              "      border-top-color: var(--fill-color);\n",
              "    }\n",
              "    60% {\n",
              "      border-color: transparent;\n",
              "      border-right-color: var(--fill-color);\n",
              "    }\n",
              "    80% {\n",
              "      border-color: transparent;\n",
              "      border-right-color: var(--fill-color);\n",
              "      border-bottom-color: var(--fill-color);\n",
              "    }\n",
              "    90% {\n",
              "      border-color: transparent;\n",
              "      border-bottom-color: var(--fill-color);\n",
              "    }\n",
              "  }\n",
              "</style>\n",
              "\n",
              "      <script>\n",
              "        async function quickchart(key) {\n",
              "          const quickchartButtonEl =\n",
              "            document.querySelector('#' + key + ' button');\n",
              "          quickchartButtonEl.disabled = true;  // To prevent multiple clicks.\n",
              "          quickchartButtonEl.classList.add('colab-df-spinner');\n",
              "          try {\n",
              "            const charts = await google.colab.kernel.invokeFunction(\n",
              "                'suggestCharts', [key], {});\n",
              "          } catch (error) {\n",
              "            console.error('Error during call to suggestCharts:', error);\n",
              "          }\n",
              "          quickchartButtonEl.classList.remove('colab-df-spinner');\n",
              "          quickchartButtonEl.classList.add('colab-df-quickchart-complete');\n",
              "        }\n",
              "        (() => {\n",
              "          let quickchartButtonEl =\n",
              "            document.querySelector('#df-9b7409cd-f02e-4bd8-bf4a-bd7b26cd82e4 button');\n",
              "          quickchartButtonEl.style.display =\n",
              "            google.colab.kernel.accessAllowed ? 'block' : 'none';\n",
              "        })();\n",
              "      </script>\n",
              "    </div>\n",
              "\n",
              "    </div>\n",
              "  </div>\n"
            ],
            "application/vnd.google.colaboratory.intrinsic+json": {
              "type": "dataframe",
              "variable_name": "ad_campaign_clean"
            }
          },
          "metadata": {},
          "execution_count": 19
        }
      ]
    },
    {
      "cell_type": "markdown",
      "source": [
        "CAMPAIGN EFFECTIVENESS"
      ],
      "metadata": {
        "id": "pxF4DoB3wFHF"
      }
    },
    {
      "cell_type": "markdown",
      "source": [
        "* Is there a statistically significant difference in conversion rates between ad and PSA groups?\n",
        "* What is the confidence interval for difference in conversion rates if it exists?\n",
        "* What is the effect size (how much better/worse did the ad group perform)?\n",
        "\n",
        "Is there a statistically significant difference in conversion rates between Ad and PSA groups?\n",
        "\n",
        "To address this question using a statistical hypothesis test, a 5% significance level.\n",
        "\n",
        "The hypotheses are formulated as follows:\n",
        "\n",
        "* Null Hypothesis (H₀): The conversion rate in the ad group equal to  the conversion rate in the PSA group (p_ad - p_psa = 0).\n",
        "* Alternative Hypothesis (H₁): The conversion rate in the ad group is higher than in the PSA group (p_ad - p_psa > 0).\n",
        "\n",
        "Plan:\n",
        "\n",
        "* Choose appropriate test\n",
        "* Check the assumptions of inference\n",
        "* Change the testing method if the assumptions aren't not met\n",
        "* Analyze the results\n",
        "\n",
        "Two-proportion Z-test(parametric) is the best for such measuring the difference in proportions. It's a well known standard in conversion rate optimization (CRO).\n",
        "If the assumptions will not be met - the non-parametric alternative is Chi-square Homogeneity(non-parametric).\n",
        "\n",
        "Assumption for Two-proportion Z-test:\n",
        "\n",
        "1. Normality (both samples are large enough: np ≥ 10 and n(1-p) ≥ 10 for both groups)\n",
        "2. Independence (observations within and between groups independent)\n",
        "3. Random sampling"
      ],
      "metadata": {
        "id": "llEnwI9LwUld"
      }
    },
    {
      "cell_type": "code",
      "source": [
        "# Create separate groups\n",
        "treatment_group = ad_campaign_clean[ad_campaign_clean['test_group'] == 'ad']\n",
        "control_group = ad_campaign_clean[ad_campaign_clean['test_group'] == 'psa']"
      ],
      "metadata": {
        "id": "Z70mGj37x1tf"
      },
      "execution_count": 20,
      "outputs": []
    },
    {
      "cell_type": "code",
      "source": [
        "# Calculate conversion rates in both groups (treatment and control)\n",
        "treatment_conversion_rate = (treatment_group['converted'] == True).mean()\n",
        "print(f'Treatment Group Conversion rate: {treatment_conversion_rate:.2%}')\n",
        "\n",
        "control_conversion_rate = (control_group['converted'] == True).mean()\n",
        "print(f'Control Group Conversion rate: {control_conversion_rate:.2%}')\n",
        "\n",
        "# Calculate absolute difference abf relative lift in conversion\n",
        "diff = treatment_conversion_rate - control_conversion_rate\n",
        "print(f'\\nAbsolute difference: {diff:.2%}')\n",
        "\n",
        "rel_lift = ((treatment_conversion_rate - control_conversion_rate)/control_conversion_rate)\n",
        "print(f'Relative Lift in conversion {rel_lift:.2%}')"
      ],
      "metadata": {
        "colab": {
          "base_uri": "https://localhost:8080/"
        },
        "id": "OoQT8Foux_Yg",
        "outputId": "c7378bca-7d86-40dc-be86-9386734ae85f"
      },
      "execution_count": 21,
      "outputs": [
        {
          "output_type": "stream",
          "name": "stdout",
          "text": [
            "Treatment Group Conversion rate: 1.34%\n",
            "Control Group Conversion rate: 1.06%\n",
            "\n",
            "Absolute difference: 0.28%\n",
            "Relative Lift in conversion 26.31%\n"
          ]
        }
      ]
    },
    {
      "cell_type": "markdown",
      "source": [
        "* Absolute difference: 0.28% higher conversion rate in the AD group\n",
        "* On average, the ad group converts 26.3% better than the PSA group (should be considered alongside the low base conversion rate)"
      ],
      "metadata": {
        "id": "72XJITcDyK4-"
      }
    },
    {
      "cell_type": "markdown",
      "source": [
        "ASSUMPTIONS CHECK"
      ],
      "metadata": {
        "id": "Cek9F3JQyYF_"
      }
    },
    {
      "cell_type": "code",
      "source": [
        "def assump_check(control_group, treatment_group, target_col, user_id_col):\n",
        "    # Normality\n",
        "    n_control = len(control_group)\n",
        "    p_control = control_group[target_col].mean()\n",
        "    control_assumption = n_control * p_control * (1 - p_control)\n",
        "\n",
        "    n_treatment = len(treatment_group)\n",
        "    p_treatment = treatment_group[target_col].mean()\n",
        "    treatment_assumption = n_treatment * p_treatment * (1 - p_treatment)\n",
        "\n",
        "    # Independence\n",
        "    # 1.Within groups duplicates\n",
        "    duplicates_treatment = treatment_group[user_id_col].duplicated().sum()\n",
        "    duplicates_control = control_group[user_id_col].duplicated().sum()\n",
        "\n",
        "    # 2.Between groups duplicates (overlap)\n",
        "    treatment_users = set(treatment_group[user_id_col])\n",
        "    control_users = set(control_group[user_id_col])\n",
        "    overlapping_users_num = len(treatment_users.intersection(control_users))\n",
        "\n",
        "    # Calculate ratio for reporting group size difference\n",
        "    ratio = n_treatment/n_control\n",
        "    print(f'Treatment/Control ratio: {ratio:.2f}')\n",
        "\n",
        "    # Check conditions for parametric test\n",
        "    if (control_assumption >= 10 and treatment_assumption >= 10 and\n",
        "        duplicates_treatment == 0 and duplicates_control == 0 and\n",
        "        overlapping_users_num == 0):\n",
        "        return 'The Assumption for Parametric were met. Conduct the Two-proportion Z-test.'\n",
        "    else:\n",
        "        return 'The Assumption for Parametric were NOT met. Conduct the Chi-square Homogeneity test.'"
      ],
      "metadata": {
        "id": "wc-6OhDIyc8L"
      },
      "execution_count": 22,
      "outputs": []
    },
    {
      "cell_type": "code",
      "source": [
        "assump_check(control_group, treatment_group, 'converted', 'user_id')"
      ],
      "metadata": {
        "colab": {
          "base_uri": "https://localhost:8080/",
          "height": 53
        },
        "id": "o_woijC4you2",
        "outputId": "489c7b23-9a04-4edd-d0cc-4bbad000479d"
      },
      "execution_count": 23,
      "outputs": [
        {
          "output_type": "stream",
          "name": "stdout",
          "text": [
            "Treatment/Control ratio: 24.13\n"
          ]
        },
        {
          "output_type": "execute_result",
          "data": {
            "text/plain": [
              "'The Assumption for Parametric were met. Conduct the Two-proportion Z-test.'"
            ],
            "application/vnd.google.colaboratory.intrinsic+json": {
              "type": "string"
            }
          },
          "metadata": {},
          "execution_count": 23
        }
      ]
    },
    {
      "cell_type": "markdown",
      "source": [
        "Conducting a Two proportion Z test"
      ],
      "metadata": {
        "id": "WnS5aBvRyzPM"
      }
    },
    {
      "cell_type": "code",
      "source": [
        "# Data Preparation\n",
        "# Count successes (conversions)\n",
        "successes = [\n",
        "    sum(treatment_group['converted'] == True),    # number of conversions in ad group\n",
        "    sum(control_group['converted'] == True)    # number of conversions in psa group\n",
        "]\n",
        "\n",
        "# Get sample sizes\n",
        "nobs = [\n",
        "    len(treatment_group),    # total number in ad group\n",
        "    len(control_group)    # total number in psa group\n",
        "]\n",
        "\n",
        "# Calculate proportions\n",
        "p_ad = successes[0]/nobs[0]\n",
        "p_psa = successes[1]/nobs[1]\n",
        "\n",
        "# Conduct one-tailed Two-proportion Z-test\n",
        "z_stat, p_value = proportions_ztest(count=successes,\n",
        "                                 nobs=nobs,\n",
        "                                 alternative='larger')\n",
        "\n",
        "if p_value < 0.05:\n",
        "    print(\"Reject the Null Hypothesis: The 'ad' group has a significantly higher conversion rate than the 'psa' group.\\nThe ad campaign shows statistically significant improvement.\")\n",
        "else:\n",
        "    print(\"Fail to reject the Null Hypothesis: There is no statistically significant evidence that the 'ad' group has a higher conversion rate than the 'psa' group.\")"
      ],
      "metadata": {
        "colab": {
          "base_uri": "https://localhost:8080/"
        },
        "id": "EEGoiEsly9ol",
        "outputId": "7e3453fc-00e9-4d22-a236-6aef1562351f"
      },
      "execution_count": 24,
      "outputs": [
        {
          "output_type": "stream",
          "name": "stdout",
          "text": [
            "Reject the Null Hypothesis: The 'ad' group has a significantly higher conversion rate than the 'psa' group.\n",
            "The ad campaign shows statistically significant improvement.\n"
          ]
        }
      ]
    },
    {
      "cell_type": "markdown",
      "source": [
        "We can say with `95%` confidence that the 'ad' group has a significantly higher conversion rate than the 'psa' group."
      ],
      "metadata": {
        "id": "k1WhIOwEzPgk"
      }
    },
    {
      "cell_type": "markdown",
      "source": [
        "Confidence Interval for Difference in Conversion Rate"
      ],
      "metadata": {
        "id": "HyTG1-nyzfip"
      }
    },
    {
      "cell_type": "code",
      "source": [
        "# Calculate CI\n",
        "ci = confint_proportions_2indep(\n",
        "    count1=successes[0],  # successes in ad(treatment) group\n",
        "    nobs1=nobs[0],        # total in ad group\n",
        "    count2=successes[1],  # successes in psa(control) group\n",
        "    nobs2=nobs[1],        # total in psa group\n",
        "    alpha=0.05            # for 95% CI\n",
        ")\n",
        "\n",
        "print(f'95% CI for difference in proportions: ({ci[0]:.2%} - {ci[1]:.2%})')\n",
        "print(f'\\nCurrent Conversion Rate difference: {diff:.2%}')"
      ],
      "metadata": {
        "colab": {
          "base_uri": "https://localhost:8080/"
        },
        "id": "xHcub5uLzSBy",
        "outputId": "ae572d5e-66f2-4013-ab7a-ff98de322ef9"
      },
      "execution_count": 25,
      "outputs": [
        {
          "output_type": "stream",
          "name": "stdout",
          "text": [
            "95% CI for difference in proportions: (0.13% - 0.41%)\n",
            "\n",
            "Current Conversion Rate difference: 0.28%\n"
          ]
        }
      ]
    },
    {
      "cell_type": "markdown",
      "source": [
        "The `95%` confidence interval (0.13% - 0.41%) indicates consistent positive effect of th Ad Campaign.\n",
        "We can expect between 0.13% and 0.41% higher conversion rate.\n",
        "The curent difference (0.28%) in conversion we captured lies roughly in the middle of 95% CI."
      ],
      "metadata": {
        "id": "sdyEyHY4zrDH"
      }
    },
    {
      "cell_type": "markdown",
      "source": [
        "POWER ANALYSIS"
      ],
      "metadata": {
        "id": "QcOdZgcrz5XN"
      }
    },
    {
      "cell_type": "code",
      "source": [
        "# Initialize the power analysis\n",
        "power_analysis = NormalIndPower()\n",
        "\n",
        "# Calculate effect size using Cohen's h\n",
        "def cohen_h(p1, p2):\n",
        "    return 2 * (np.arcsin(np.sqrt(p1)) - np.arcsin(np.sqrt(p2)))\n",
        "\n",
        "# Calculate the effect size\n",
        "effect_size = cohen_h(p_ad, p_psa)\n",
        "\n",
        "# Calculate power\n",
        "power = power_analysis.solve_power(\n",
        "    effect_size=effect_size,\n",
        "    nobs1=nobs[0],    # sample size of ad group\n",
        "    alpha=0.05,       # significance level\n",
        "    ratio=nobs[1]/nobs[0],  # ratio of sample sizes (psa/ad)\n",
        "    alternative='larger'     # one-sided test\n",
        ")\n",
        "\n",
        "print(f'\\nStatistical Power: {power:.4f}')"
      ],
      "metadata": {
        "colab": {
          "base_uri": "https://localhost:8080/"
        },
        "id": "xAY-9UUQz83a",
        "outputId": "ba808028-fade-4658-b93a-5fe360de55e0"
      },
      "execution_count": 26,
      "outputs": [
        {
          "output_type": "stream",
          "name": "stdout",
          "text": [
            "\n",
            "Statistical Power: 0.9786\n"
          ]
        }
      ]
    },
    {
      "cell_type": "markdown",
      "source": [
        "The test achieved **high statistical power** (`0.9786` > `0.80`), indicating reliable detection of the observed effect if it exist."
      ],
      "metadata": {
        "id": "uwqzgdLA0RfK"
      }
    },
    {
      "cell_type": "markdown",
      "source": [
        "**Business Interpretation of the Results**\n",
        "\n",
        "A/B testing revealed that while the AD campaign achieved statistical significance with high power (0.9786) and a positive lift over PSAs, the absolute improvement in conversion rate was minimal (0.28%).\n",
        "Though we observed a 26.3% relative improvement and can be 95% confident the true effect lies between 0.13% and 0.41%, the small absolute difference suggests limited practical impact despite statistical reliability.\n",
        "\n",
        "**Recommendations**\n",
        "\n",
        "Before scaling the AD campaign, a thorough cost-benefit analysis is recommended, with a potential search of alternative ad strategies."
      ],
      "metadata": {
        "id": "NdZdnWHc0YqT"
      }
    },
    {
      "cell_type": "markdown",
      "source": [
        "RETURN ON INVESTMENT(ROI)"
      ],
      "metadata": {
        "id": "8ERDy0NuvftH"
      }
    },
    {
      "cell_type": "markdown",
      "source": [
        "How much additional revenue can be expected from using ads vs PSAs?\n",
        "\n",
        "To estimate revenue impact, we'll calculate additional revenue gained per 1000 user afted running an ad campaign. Assume the avg. revenue per conversion is $55.50."
      ],
      "metadata": {
        "id": "Zo22E-Isvr2N"
      }
    },
    {
      "cell_type": "code",
      "source": [
        "# Assuming the average revenue per conversion\n",
        "avg_revenue_per_conversion = 55.5\n",
        "\n",
        "# Calculate additional revenue per 1000 users\n",
        "base_revenue = 1000 * control_conversion_rate * avg_revenue_per_conversion\n",
        "expected_revenue = 1000 * treatment_conversion_rate * avg_revenue_per_conversion\n",
        "\n",
        "print(f'Base revenue per 1K users: ${base_revenue:.2f}')\n",
        "print(f'Expected revenue per 1K users: ${expected_revenue:.2f}')\n",
        "\n",
        "additional_revenue = expected_revenue - base_revenue\n",
        "print(f'Additional revenue: ${additional_revenue:.2f}')\n",
        "\n",
        "\n",
        "# Calculate an expected revenue increase interval using CIs\n",
        "expected_revenue_low = 1000 * (ci[0] + control_conversion_rate) * avg_revenue_per_conversion\n",
        "expected_revenue_up = 1000 * (ci[1] + control_conversion_rate) * avg_revenue_per_conversion\n",
        "\n",
        "print(f'\\nExpected revenue range per 1K users: ${expected_revenue_low:.2f} - ${expected_revenue_up:.2f}')"
      ],
      "metadata": {
        "colab": {
          "base_uri": "https://localhost:8080/"
        },
        "id": "YCEfC5xt0slQ",
        "outputId": "abcddfdc-59f1-4d5e-f008-e72ae2f585ca"
      },
      "execution_count": 27,
      "outputs": [
        {
          "output_type": "stream",
          "name": "stdout",
          "text": [
            "Base revenue per 1K users: $588.10\n",
            "Expected revenue per 1K users: $742.82\n",
            "Additional revenue: $154.72\n",
            "\n",
            "Expected revenue range per 1K users: $659.71 - $816.48\n"
          ]
        }
      ]
    },
    {
      "cell_type": "markdown",
      "source": [
        "Based on the A/B testing analysis, implementing the ad campaign generates an additional revenue around 155.0 Dollors per 1,000 users compared to showing PSAs. With an assumed revenue per conversion of $50.50, this represents measurable financial improvement over the baseline PSA performance. While the absolute revenue increase appears modest due to low conversion rates, the relative lift indicates positive campaign effectiveness.\n",
        "\n",
        "**Recommendations**\n",
        "\n",
        "Further optimization of ad delivery timing and targeting could potentially enhance the returns."
      ],
      "metadata": {
        "id": "a9Brs99X01mD"
      }
    },
    {
      "cell_type": "markdown",
      "source": [
        "AD Exposure Impact\n",
        "\n",
        "* Is there a correlation between the number of ads seen and conversion rate?\n",
        "* What is the optimal number of ad exposures for conversion?"
      ],
      "metadata": {
        "id": "q9ngJ83a1cqU"
      }
    },
    {
      "cell_type": "markdown",
      "source": [
        "Ads Exposure and Conversion Rate correlation\n",
        "\n",
        "Is there a correlation between the number of ads seen and conversion rate?"
      ],
      "metadata": {
        "id": "eos7-fb91zcY"
      }
    },
    {
      "cell_type": "code",
      "source": [
        "# Create a box plot to visualize distribution of ads for converted vs non-converted\n",
        "fig, ax = plt.subplots()\n",
        "\n",
        "sns.boxplot(\n",
        "    data=ad_campaign_clean,\n",
        "    x='converted',\n",
        "    y='total_ads',\n",
        "    palette=custom_colors[3:],\n",
        "    boxprops=dict(alpha=0.7),\n",
        "    linewidth=1,\n",
        "    flierprops={\n",
        "        'marker': 'o',\n",
        "        'markersize': 2,\n",
        "        'markerfacecolor': custom_colors[4]  # Color for the outliers\n",
        "    }\n",
        ")\n",
        "plt.title('Distribution of Ad Views by Conversion Status')\n",
        "plt.xlabel('Converted (0=No, 1=Yes)')\n",
        "plt.ylabel('Number of Ads Seen')\n",
        "\n",
        "# Remove the top and right spines\n",
        "plt.gca().spines[['top', 'right']].set_visible(False)\n",
        "plt.show()"
      ],
      "metadata": {
        "colab": {
          "base_uri": "https://localhost:8080/",
          "height": 564
        },
        "id": "K-my44Eg1lfM",
        "outputId": "15219325-1a40-4949-f01d-fddc3ab40bb8"
      },
      "execution_count": 28,
      "outputs": [
        {
          "output_type": "display_data",
          "data": {
            "text/plain": [
              "<Figure size 1200x600 with 1 Axes>"
            ],
            "image/png": "[encoded data removed]"
          },
          "metadata": {
            "image/png": {
              "width": 995,
              "height": 547
            }
          }
        }
      ]
    },
    {
      "cell_type": "markdown",
      "source": [
        "Users who converted (1) demonstrate notably higher median ad views and a broader IQR compared to non-converters (0), suggesting that increased ad exposure may influence conversion probability.\n",
        "\n",
        "Point-biserial is specifically designed for correlating:\n",
        "\n",
        "* One continuous variable (total_ads)\n",
        "* One dichotomous/binary variable (converted: 0/1)\n",
        "\n",
        "It's mathematically equivalent to Pearson correlation but more appropriate interpretation for binary variables."
      ],
      "metadata": {
        "id": "HRTG-kPV2T0e"
      }
    },
    {
      "cell_type": "code",
      "source": [
        "# Create a function to calculate the Point-biserial correlations coeffcient\n",
        "def interpret_correlation(col_1, col_2, alpha=0.05):\n",
        "    pointbi_corr, pointbi_p = stats.pointbiserialr(col_1, col_2)\n",
        "\n",
        "    # Check statistical significance\n",
        "    if p_value > alpha:\n",
        "        return 'No significant correlation found (p > 0.05)'\n",
        "\n",
        "    # Interpret strength\n",
        "    if abs(pointbi_corr) < 0.1:\n",
        "        strength = 'negligible'\n",
        "    elif abs(pointbi_corr) < 0.3:\n",
        "        strength = 'weak'\n",
        "    elif abs(pointbi_corr) < 0.5:\n",
        "        strength = 'moderate'\n",
        "    elif abs(pointbi_corr) < 0.7:\n",
        "        strength = 'strong'\n",
        "    else:\n",
        "        strength = 'very strong'\n",
        "\n",
        "    direction = 'positive' if pointbi_corr > 0 else 'negative'\n",
        "    return print(f'Significant {strength} {direction} correlation is detected: r = {pointbi_corr:.2f}, p < {alpha})')"
      ],
      "metadata": {
        "id": "8j3cWhFD2R8b"
      },
      "execution_count": 29,
      "outputs": []
    },
    {
      "cell_type": "code",
      "source": [
        "# Use the function\n",
        "result = interpret_correlation(ad_campaign_clean['total_ads'], ad_campaign_clean['converted'])"
      ],
      "metadata": {
        "id": "c1kuP92G2xxX",
        "outputId": "94057cb8-2714-437c-ee3f-e3fa109265b2",
        "colab": {
          "base_uri": "https://localhost:8080/"
        }
      },
      "execution_count": 30,
      "outputs": [
        {
          "output_type": "stream",
          "name": "stdout",
          "text": [
            "Significant weak positive correlation is detected: r = 0.15, p < 0.05)\n"
          ]
        }
      ]
    },
    {
      "cell_type": "markdown",
      "source": [
        "# Optimal number of Ad exposures\n",
        "What is the optimal number of ad exposures for conversion?"
      ],
      "metadata": {
        "id": "xUcasDOVmbvB"
      }
    },
    {
      "cell_type": "code",
      "source": [
        "# Make sure to run the cell that defines ad_campaign_clean first\n",
        "\n",
        "# use only treatment (ad) group for temporal analysis since we're optimizing ad performance\n",
        "ad_data = ad_campaign_clean[ad_campaign_clean['test_group'] == 'ad']\n",
        "ad_data.head()"
      ],
      "metadata": {
        "colab": {
          "base_uri": "https://localhost:8080/",
          "height": 206
        },
        "id": "3dU9jn5rmkZe",
        "outputId": "16de14b2-f78b-43f1-8cfe-126de3630587"
      },
      "execution_count": 31,
      "outputs": [
        {
          "output_type": "execute_result",
          "data": {
            "text/plain": [
              "   Unnamed: 0  user_id test_group  converted  total_ads most_ads_day  \\\n",
              "0           2  1144181         ad          0         21      Tuesday   \n",
              "1           7  1496843         ad          0         17       Sunday   \n",
              "2           8  1448851         ad          0         21      Tuesday   \n",
              "3          11  1637531         ad          0         47    Wednesday   \n",
              "4          12  1081965         ad          0         61      Tuesday   \n",
              "\n",
              "   most_ads_hour  \n",
              "0             18  \n",
              "1             18  \n",
              "2             19  \n",
              "3             13  \n",
              "4             20  "
            ],
            "text/html": [
              "\n",
              "  <div id=\"df-eb4ea72a-8bbb-4255-bf79-6eff2b1dfb93\" class=\"colab-df-container\">\n",
              "    <div>\n",
              "<style scoped>\n",
              "    .dataframe tbody tr th:only-of-type {\n",
              "        vertical-align: middle;\n",
              "    }\n",
              "\n",
              "    .dataframe tbody tr th {\n",
              "        vertical-align: top;\n",
              "    }\n",
              "\n",
              "    .dataframe thead th {\n",
              "        text-align: right;\n",
              "    }\n",
              "</style>\n",
              "<table border=\"1\" class=\"dataframe\">\n",
              "  <thead>\n",
              "    <tr style=\"text-align: right;\">\n",
              "      <th></th>\n",
              "      <th>Unnamed: 0</th>\n",
              "      <th>user_id</th>\n",
              "      <th>test_group</th>\n",
              "      <th>converted</th>\n",
              "      <th>total_ads</th>\n",
              "      <th>most_ads_day</th>\n",
              "      <th>most_ads_hour</th>\n",
              "    </tr>\n",
              "  </thead>\n",
              "  <tbody>\n",
              "    <tr>\n",
              "      <th>0</th>\n",
              "      <td>2</td>\n",
              "      <td>1144181</td>\n",
              "      <td>ad</td>\n",
              "      <td>0</td>\n",
              "      <td>21</td>\n",
              "      <td>Tuesday</td>\n",
              "      <td>18</td>\n",
              "    </tr>\n",
              "    <tr>\n",
              "      <th>1</th>\n",
              "      <td>7</td>\n",
              "      <td>1496843</td>\n",
              "      <td>ad</td>\n",
              "      <td>0</td>\n",
              "      <td>17</td>\n",
              "      <td>Sunday</td>\n",
              "      <td>18</td>\n",
              "    </tr>\n",
              "    <tr>\n",
              "      <th>2</th>\n",
              "      <td>8</td>\n",
              "      <td>1448851</td>\n",
              "      <td>ad</td>\n",
              "      <td>0</td>\n",
              "      <td>21</td>\n",
              "      <td>Tuesday</td>\n",
              "      <td>19</td>\n",
              "    </tr>\n",
              "    <tr>\n",
              "      <th>3</th>\n",
              "      <td>11</td>\n",
              "      <td>1637531</td>\n",
              "      <td>ad</td>\n",
              "      <td>0</td>\n",
              "      <td>47</td>\n",
              "      <td>Wednesday</td>\n",
              "      <td>13</td>\n",
              "    </tr>\n",
              "    <tr>\n",
              "      <th>4</th>\n",
              "      <td>12</td>\n",
              "      <td>1081965</td>\n",
              "      <td>ad</td>\n",
              "      <td>0</td>\n",
              "      <td>61</td>\n",
              "      <td>Tuesday</td>\n",
              "      <td>20</td>\n",
              "    </tr>\n",
              "  </tbody>\n",
              "</table>\n",
              "</div>\n",
              "    <div class=\"colab-df-buttons\">\n",
              "\n",
              "  <div class=\"colab-df-container\">\n",
              "    <button class=\"colab-df-convert\" onclick=\"convertToInteractive('df-eb4ea72a-8bbb-4255-bf79-6eff2b1dfb93')\"\n",
              "            title=\"Convert this dataframe to an interactive table.\"\n",
              "            style=\"display:none;\">\n",
              "\n",
              "  <svg xmlns=\"http://www.w3.org/2000/svg\" height=\"24px\" viewBox=\"0 -960 960 960\">\n",
              "    <path d=\"M120-120v-720h720v720H120Zm60-500h600v-160H180v160Zm220 220h160v-160H400v160Zm0 220h160v-160H400v160ZM180-400h160v-160H180v160Zm440 0h160v-160H620v160ZM180-180h160v-160H180v160Zm440 0h160v-160H620v160Z\"/>\n",
              "  </svg>\n",
              "    </button>\n",
              "\n",
              "  <style>\n",
              "    .colab-df-container {\n",
              "      display:flex;\n",
              "      gap: 12px;\n",
              "    }\n",
              "\n",
              "    .colab-df-convert {\n",
              "      background-color: #E8F0FE;\n",
              "      border: none;\n",
              "      border-radius: 50%;\n",
              "      cursor: pointer;\n",
              "      display: none;\n",
              "      fill: #1967D2;\n",
              "      height: 32px;\n",
              "      padding: 0 0 0 0;\n",
              "      width: 32px;\n",
              "    }\n",
              "\n",
              "    .colab-df-convert:hover {\n",
              "      background-color: #E2EBFA;\n",
              "      box-shadow: 0px 1px 2px rgba(60, 64, 67, 0.3), 0px 1px 3px 1px rgba(60, 64, 67, 0.15);\n",
              "      fill: #174EA6;\n",
              "    }\n",
              "\n",
              "    .colab-df-buttons div {\n",
              "      margin-bottom: 4px;\n",
              "    }\n",
              "\n",
              "    [theme=dark] .colab-df-convert {\n",
              "      background-color: #3B4455;\n",
              "      fill: #D2E3FC;\n",
              "    }\n",
              "\n",
              "    [theme=dark] .colab-df-convert:hover {\n",
              "      background-color: #434B5C;\n",
              "      box-shadow: 0px 1px 3px 1px rgba(0, 0, 0, 0.15);\n",
              "      filter: drop-shadow(0px 1px 2px rgba(0, 0, 0, 0.3));\n",
              "      fill: #FFFFFF;\n",
              "    }\n",
              "  </style>\n",
              "\n",
              "    <script>\n",
              "      const buttonEl =\n",
              "        document.querySelector('#df-eb4ea72a-8bbb-4255-bf79-6eff2b1dfb93 button.colab-df-convert');\n",
              "      buttonEl.style.display =\n",
              "        google.colab.kernel.accessAllowed ? 'block' : 'none';\n",
              "\n",
              "      async function convertToInteractive(key) {\n",
              "        const element = document.querySelector('#df-eb4ea72a-8bbb-4255-bf79-6eff2b1dfb93');\n",
              "        const dataTable =\n",
              "          await google.colab.kernel.invokeFunction('convertToInteractive',\n",
              "                                                    [key], {});\n",
              "        if (!dataTable) return;\n",
              "\n",
              "        const docLinkHtml = 'Like what you see? Visit the ' +\n",
              "          '<a target=\"_blank\" href=https://colab.research.google.com/notebooks/data_table.ipynb>data table notebook</a>'\n",
              "          + ' to learn more about interactive tables.';\n",
              "        element.innerHTML = '';\n",
              "        dataTable['output_type'] = 'display_data';\n",
              "        await google.colab.output.renderOutput(dataTable, element);\n",
              "        const docLink = document.createElement('div');\n",
              "        docLink.innerHTML = docLinkHtml;\n",
              "        element.appendChild(docLink);\n",
              "      }\n",
              "    </script>\n",
              "  </div>\n",
              "\n",
              "\n",
              "    <div id=\"df-c26bc9ff-f1ad-4c74-99a3-a8f80042d7e1\">\n",
              "      <button class=\"colab-df-quickchart\" onclick=\"quickchart('df-c26bc9ff-f1ad-4c74-99a3-a8f80042d7e1')\"\n",
              "                title=\"Suggest charts\"\n",
              "                style=\"display:none;\">\n",
              "\n",
              "<svg xmlns=\"http://www.w3.org/2000/svg\" height=\"24px\"viewBox=\"0 0 24 24\"\n",
              "     width=\"24px\">\n",
              "    <g>\n",
              "        <path d=\"M19 3H5c-1.1 0-2 .9-2 2v14c0 1.1.9 2 2 2h14c1.1 0 2-.9 2-2V5c0-1.1-.9-2-2-2zM9 17H7v-7h2v7zm4 0h-2V7h2v10zm4 0h-2v-4h2v4z\"/>\n",
              "    </g>\n",
              "</svg>\n",
              "      </button>\n",
              "\n",
              "<style>\n",
              "  .colab-df-quickchart {\n",
              "      --bg-color: #E8F0FE;\n",
              "      --fill-color: #1967D2;\n",
              "      --hover-bg-color: #E2EBFA;\n",
              "      --hover-fill-color: #174EA6;\n",
              "      --disabled-fill-color: #AAA;\n",
              "      --disabled-bg-color: #DDD;\n",
              "  }\n",
              "\n",
              "  [theme=dark] .colab-df-quickchart {\n",
              "      --bg-color: #3B4455;\n",
              "      --fill-color: #D2E3FC;\n",
              "      --hover-bg-color: #434B5C;\n",
              "      --hover-fill-color: #FFFFFF;\n",
              "      --disabled-bg-color: #3B4455;\n",
              "      --disabled-fill-color: #666;\n",
              "  }\n",
              "\n",
              "  .colab-df-quickchart {\n",
              "    background-color: var(--bg-color);\n",
              "    border: none;\n",
              "    border-radius: 50%;\n",
              "    cursor: pointer;\n",
              "    display: none;\n",
              "    fill: var(--fill-color);\n",
              "    height: 32px;\n",
              "    padding: 0;\n",
              "    width: 32px;\n",
              "  }\n",
              "\n",
              "  .colab-df-quickchart:hover {\n",
              "    background-color: var(--hover-bg-color);\n",
              "    box-shadow: 0 1px 2px rgba(60, 64, 67, 0.3), 0 1px 3px 1px rgba(60, 64, 67, 0.15);\n",
              "    fill: var(--button-hover-fill-color);\n",
              "  }\n",
              "\n",
              "  .colab-df-quickchart-complete:disabled,\n",
              "  .colab-df-quickchart-complete:disabled:hover {\n",
              "    background-color: var(--disabled-bg-color);\n",
              "    fill: var(--disabled-fill-color);\n",
              "    box-shadow: none;\n",
              "  }\n",
              "\n",
              "  .colab-df-spinner {\n",
              "    border: 2px solid var(--fill-color);\n",
              "    border-color: transparent;\n",
              "    border-bottom-color: var(--fill-color);\n",
              "    animation:\n",
              "      spin 1s steps(1) infinite;\n",
              "  }\n",
              "\n",
              "  @keyframes spin {\n",
              "    0% {\n",
              "      border-color: transparent;\n",
              "      border-bottom-color: var(--fill-color);\n",
              "      border-left-color: var(--fill-color);\n",
              "    }\n",
              "    20% {\n",
              "      border-color: transparent;\n",
              "      border-left-color: var(--fill-color);\n",
              "      border-top-color: var(--fill-color);\n",
              "    }\n",
              "    30% {\n",
              "      border-color: transparent;\n",
              "      border-left-color: var(--fill-color);\n",
              "      border-top-color: var(--fill-color);\n",
              "      border-right-color: var(--fill-color);\n",
              "    }\n",
              "    40% {\n",
              "      border-color: transparent;\n",
              "      border-right-color: var(--fill-color);\n",
              "      border-top-color: var(--fill-color);\n",
              "    }\n",
              "    60% {\n",
              "      border-color: transparent;\n",
              "      border-right-color: var(--fill-color);\n",
              "    }\n",
              "    80% {\n",
              "      border-color: transparent;\n",
              "      border-right-color: var(--fill-color);\n",
              "      border-bottom-color: var(--fill-color);\n",
              "    }\n",
              "    90% {\n",
              "      border-color: transparent;\n",
              "      border-bottom-color: var(--fill-color);\n",
              "    }\n",
              "  }\n",
              "</style>\n",
              "\n",
              "      <script>\n",
              "        async function quickchart(key) {\n",
              "          const quickchartButtonEl =\n",
              "            document.querySelector('#' + key + ' button');\n",
              "          quickchartButtonEl.disabled = true;  // To prevent multiple clicks.\n",
              "          quickchartButtonEl.classList.add('colab-df-spinner');\n",
              "          try {\n",
              "            const charts = await google.colab.kernel.invokeFunction(\n",
              "                'suggestCharts', [key], {});\n",
              "          } catch (error) {\n",
              "            console.error('Error during call to suggestCharts:', error);\n",
              "          }\n",
              "          quickchartButtonEl.classList.remove('colab-df-spinner');\n",
              "          quickchartButtonEl.classList.add('colab-df-quickchart-complete');\n",
              "        }\n",
              "        (() => {\n",
              "          let quickchartButtonEl =\n",
              "            document.querySelector('#df-c26bc9ff-f1ad-4c74-99a3-a8f80042d7e1 button');\n",
              "          quickchartButtonEl.style.display =\n",
              "            google.colab.kernel.accessAllowed ? 'block' : 'none';\n",
              "        })();\n",
              "      </script>\n",
              "    </div>\n",
              "\n",
              "    </div>\n",
              "  </div>\n"
            ],
            "application/vnd.google.colaboratory.intrinsic+json": {
              "type": "dataframe",
              "variable_name": "ad_data"
            }
          },
          "metadata": {},
          "execution_count": 31
        }
      ]
    },
    {
      "cell_type": "code",
      "source": [
        "ad_data_exp = ad_data.copy()\n",
        "# Divide ad exposures into 10 equal-sized groups for analysis\n",
        "ad_data_exp['exposure_bins'] = pd.qcut(ad_data_exp['total_ads'], q=10, duplicates='drop', precision=0)"
      ],
      "metadata": {
        "id": "qjg8KVjPnXgx"
      },
      "execution_count": 32,
      "outputs": []
    },
    {
      "cell_type": "markdown",
      "source": [
        "Calculate key metrics for each exposure bin\n",
        "Will be used for further plotting."
      ],
      "metadata": {
        "id": "e9o31Or9ncYv"
      }
    },
    {
      "cell_type": "code",
      "source": [
        "# Calculate conversion metrics for each exposure level\n",
        "conversion_by_exposure = ad_data_exp.groupby('exposure_bins', observed=False).agg({\n",
        "    'converted': ['count', 'mean', 'sum'],  # Get total users, conversion rate, total conversions\n",
        "    'total_ads': 'mean'                     # Average number of ads shown in this bin\n",
        "}).reset_index()\n",
        "\n",
        "conversion_by_exposure.head(3)"
      ],
      "metadata": {
        "colab": {
          "base_uri": "https://localhost:8080/",
          "height": 175
        },
        "id": "yLwLiP5sndlG",
        "outputId": "8ad214b0-c6bb-4011-e785-1af63c269c18"
      },
      "execution_count": 33,
      "outputs": [
        {
          "output_type": "execute_result",
          "data": {
            "text/plain": [
              "  exposure_bins converted             total_ads\n",
              "                    count   mean  sum      mean\n",
              "0    (0.0, 3.0]    119537 0.0021  254    1.7744\n",
              "1    (3.0, 5.0]     50425 0.0034  173    4.5558\n",
              "2    (5.0, 7.0]     40681 0.0040  164    6.4502"
            ],
            "text/html": [
              "\n",
              "  <div id=\"df-a44a811c-a2f8-49e7-b9c5-9e828e2a8f83\" class=\"colab-df-container\">\n",
              "    <div>\n",
              "<style scoped>\n",
              "    .dataframe tbody tr th:only-of-type {\n",
              "        vertical-align: middle;\n",
              "    }\n",
              "\n",
              "    .dataframe tbody tr th {\n",
              "        vertical-align: top;\n",
              "    }\n",
              "\n",
              "    .dataframe thead tr th {\n",
              "        text-align: left;\n",
              "    }\n",
              "</style>\n",
              "<table border=\"1\" class=\"dataframe\">\n",
              "  <thead>\n",
              "    <tr>\n",
              "      <th></th>\n",
              "      <th>exposure_bins</th>\n",
              "      <th colspan=\"3\" halign=\"left\">converted</th>\n",
              "      <th>total_ads</th>\n",
              "    </tr>\n",
              "    <tr>\n",
              "      <th></th>\n",
              "      <th></th>\n",
              "      <th>count</th>\n",
              "      <th>mean</th>\n",
              "      <th>sum</th>\n",
              "      <th>mean</th>\n",
              "    </tr>\n",
              "  </thead>\n",
              "  <tbody>\n",
              "    <tr>\n",
              "      <th>0</th>\n",
              "      <td>(0.0, 3.0]</td>\n",
              "      <td>119537</td>\n",
              "      <td>0.0021</td>\n",
              "      <td>254</td>\n",
              "      <td>1.7744</td>\n",
              "    </tr>\n",
              "    <tr>\n",
              "      <th>1</th>\n",
              "      <td>(3.0, 5.0]</td>\n",
              "      <td>50425</td>\n",
              "      <td>0.0034</td>\n",
              "      <td>173</td>\n",
              "      <td>4.5558</td>\n",
              "    </tr>\n",
              "    <tr>\n",
              "      <th>2</th>\n",
              "      <td>(5.0, 7.0]</td>\n",
              "      <td>40681</td>\n",
              "      <td>0.0040</td>\n",
              "      <td>164</td>\n",
              "      <td>6.4502</td>\n",
              "    </tr>\n",
              "  </tbody>\n",
              "</table>\n",
              "</div>\n",
              "    <div class=\"colab-df-buttons\">\n",
              "\n",
              "  <div class=\"colab-df-container\">\n",
              "    <button class=\"colab-df-convert\" onclick=\"convertToInteractive('df-a44a811c-a2f8-49e7-b9c5-9e828e2a8f83')\"\n",
              "            title=\"Convert this dataframe to an interactive table.\"\n",
              "            style=\"display:none;\">\n",
              "\n",
              "  <svg xmlns=\"http://www.w3.org/2000/svg\" height=\"24px\" viewBox=\"0 -960 960 960\">\n",
              "    <path d=\"M120-120v-720h720v720H120Zm60-500h600v-160H180v160Zm220 220h160v-160H400v160Zm0 220h160v-160H400v160ZM180-400h160v-160H180v160Zm440 0h160v-160H620v160ZM180-180h160v-160H180v160Zm440 0h160v-160H620v160Z\"/>\n",
              "  </svg>\n",
              "    </button>\n",
              "\n",
              "  <style>\n",
              "    .colab-df-container {\n",
              "      display:flex;\n",
              "      gap: 12px;\n",
              "    }\n",
              "\n",
              "    .colab-df-convert {\n",
              "      background-color: #E8F0FE;\n",
              "      border: none;\n",
              "      border-radius: 50%;\n",
              "      cursor: pointer;\n",
              "      display: none;\n",
              "      fill: #1967D2;\n",
              "      height: 32px;\n",
              "      padding: 0 0 0 0;\n",
              "      width: 32px;\n",
              "    }\n",
              "\n",
              "    .colab-df-convert:hover {\n",
              "      background-color: #E2EBFA;\n",
              "      box-shadow: 0px 1px 2px rgba(60, 64, 67, 0.3), 0px 1px 3px 1px rgba(60, 64, 67, 0.15);\n",
              "      fill: #174EA6;\n",
              "    }\n",
              "\n",
              "    .colab-df-buttons div {\n",
              "      margin-bottom: 4px;\n",
              "    }\n",
              "\n",
              "    [theme=dark] .colab-df-convert {\n",
              "      background-color: #3B4455;\n",
              "      fill: #D2E3FC;\n",
              "    }\n",
              "\n",
              "    [theme=dark] .colab-df-convert:hover {\n",
              "      background-color: #434B5C;\n",
              "      box-shadow: 0px 1px 3px 1px rgba(0, 0, 0, 0.15);\n",
              "      filter: drop-shadow(0px 1px 2px rgba(0, 0, 0, 0.3));\n",
              "      fill: #FFFFFF;\n",
              "    }\n",
              "  </style>\n",
              "\n",
              "    <script>\n",
              "      const buttonEl =\n",
              "        document.querySelector('#df-a44a811c-a2f8-49e7-b9c5-9e828e2a8f83 button.colab-df-convert');\n",
              "      buttonEl.style.display =\n",
              "        google.colab.kernel.accessAllowed ? 'block' : 'none';\n",
              "\n",
              "      async function convertToInteractive(key) {\n",
              "        const element = document.querySelector('#df-a44a811c-a2f8-49e7-b9c5-9e828e2a8f83');\n",
              "        const dataTable =\n",
              "          await google.colab.kernel.invokeFunction('convertToInteractive',\n",
              "                                                    [key], {});\n",
              "        if (!dataTable) return;\n",
              "\n",
              "        const docLinkHtml = 'Like what you see? Visit the ' +\n",
              "          '<a target=\"_blank\" href=https://colab.research.google.com/notebooks/data_table.ipynb>data table notebook</a>'\n",
              "          + ' to learn more about interactive tables.';\n",
              "        element.innerHTML = '';\n",
              "        dataTable['output_type'] = 'display_data';\n",
              "        await google.colab.output.renderOutput(dataTable, element);\n",
              "        const docLink = document.createElement('div');\n",
              "        docLink.innerHTML = docLinkHtml;\n",
              "        element.appendChild(docLink);\n",
              "      }\n",
              "    </script>\n",
              "  </div>\n",
              "\n",
              "\n",
              "    <div id=\"df-b4fef021-6f6b-4182-b311-e184d851b127\">\n",
              "      <button class=\"colab-df-quickchart\" onclick=\"quickchart('df-b4fef021-6f6b-4182-b311-e184d851b127')\"\n",
              "                title=\"Suggest charts\"\n",
              "                style=\"display:none;\">\n",
              "\n",
              "<svg xmlns=\"http://www.w3.org/2000/svg\" height=\"24px\"viewBox=\"0 0 24 24\"\n",
              "     width=\"24px\">\n",
              "    <g>\n",
              "        <path d=\"M19 3H5c-1.1 0-2 .9-2 2v14c0 1.1.9 2 2 2h14c1.1 0 2-.9 2-2V5c0-1.1-.9-2-2-2zM9 17H7v-7h2v7zm4 0h-2V7h2v10zm4 0h-2v-4h2v4z\"/>\n",
              "    </g>\n",
              "</svg>\n",
              "      </button>\n",
              "\n",
              "<style>\n",
              "  .colab-df-quickchart {\n",
              "      --bg-color: #E8F0FE;\n",
              "      --fill-color: #1967D2;\n",
              "      --hover-bg-color: #E2EBFA;\n",
              "      --hover-fill-color: #174EA6;\n",
              "      --disabled-fill-color: #AAA;\n",
              "      --disabled-bg-color: #DDD;\n",
              "  }\n",
              "\n",
              "  [theme=dark] .colab-df-quickchart {\n",
              "      --bg-color: #3B4455;\n",
              "      --fill-color: #D2E3FC;\n",
              "      --hover-bg-color: #434B5C;\n",
              "      --hover-fill-color: #FFFFFF;\n",
              "      --disabled-bg-color: #3B4455;\n",
              "      --disabled-fill-color: #666;\n",
              "  }\n",
              "\n",
              "  .colab-df-quickchart {\n",
              "    background-color: var(--bg-color);\n",
              "    border: none;\n",
              "    border-radius: 50%;\n",
              "    cursor: pointer;\n",
              "    display: none;\n",
              "    fill: var(--fill-color);\n",
              "    height: 32px;\n",
              "    padding: 0;\n",
              "    width: 32px;\n",
              "  }\n",
              "\n",
              "  .colab-df-quickchart:hover {\n",
              "    background-color: var(--hover-bg-color);\n",
              "    box-shadow: 0 1px 2px rgba(60, 64, 67, 0.3), 0 1px 3px 1px rgba(60, 64, 67, 0.15);\n",
              "    fill: var(--button-hover-fill-color);\n",
              "  }\n",
              "\n",
              "  .colab-df-quickchart-complete:disabled,\n",
              "  .colab-df-quickchart-complete:disabled:hover {\n",
              "    background-color: var(--disabled-bg-color);\n",
              "    fill: var(--disabled-fill-color);\n",
              "    box-shadow: none;\n",
              "  }\n",
              "\n",
              "  .colab-df-spinner {\n",
              "    border: 2px solid var(--fill-color);\n",
              "    border-color: transparent;\n",
              "    border-bottom-color: var(--fill-color);\n",
              "    animation:\n",
              "      spin 1s steps(1) infinite;\n",
              "  }\n",
              "\n",
              "  @keyframes spin {\n",
              "    0% {\n",
              "      border-color: transparent;\n",
              "      border-bottom-color: var(--fill-color);\n",
              "      border-left-color: var(--fill-color);\n",
              "    }\n",
              "    20% {\n",
              "      border-color: transparent;\n",
              "      border-left-color: var(--fill-color);\n",
              "      border-top-color: var(--fill-color);\n",
              "    }\n",
              "    30% {\n",
              "      border-color: transparent;\n",
              "      border-left-color: var(--fill-color);\n",
              "      border-top-color: var(--fill-color);\n",
              "      border-right-color: var(--fill-color);\n",
              "    }\n",
              "    40% {\n",
              "      border-color: transparent;\n",
              "      border-right-color: var(--fill-color);\n",
              "      border-top-color: var(--fill-color);\n",
              "    }\n",
              "    60% {\n",
              "      border-color: transparent;\n",
              "      border-right-color: var(--fill-color);\n",
              "    }\n",
              "    80% {\n",
              "      border-color: transparent;\n",
              "      border-right-color: var(--fill-color);\n",
              "      border-bottom-color: var(--fill-color);\n",
              "    }\n",
              "    90% {\n",
              "      border-color: transparent;\n",
              "      border-bottom-color: var(--fill-color);\n",
              "    }\n",
              "  }\n",
              "</style>\n",
              "\n",
              "      <script>\n",
              "        async function quickchart(key) {\n",
              "          const quickchartButtonEl =\n",
              "            document.querySelector('#' + key + ' button');\n",
              "          quickchartButtonEl.disabled = true;  // To prevent multiple clicks.\n",
              "          quickchartButtonEl.classList.add('colab-df-spinner');\n",
              "          try {\n",
              "            const charts = await google.colab.kernel.invokeFunction(\n",
              "                'suggestCharts', [key], {});\n",
              "          } catch (error) {\n",
              "            console.error('Error during call to suggestCharts:', error);\n",
              "          }\n",
              "          quickchartButtonEl.classList.remove('colab-df-spinner');\n",
              "          quickchartButtonEl.classList.add('colab-df-quickchart-complete');\n",
              "        }\n",
              "        (() => {\n",
              "          let quickchartButtonEl =\n",
              "            document.querySelector('#df-b4fef021-6f6b-4182-b311-e184d851b127 button');\n",
              "          quickchartButtonEl.style.display =\n",
              "            google.colab.kernel.accessAllowed ? 'block' : 'none';\n",
              "        })();\n",
              "      </script>\n",
              "    </div>\n",
              "\n",
              "    </div>\n",
              "  </div>\n"
            ],
            "application/vnd.google.colaboratory.intrinsic+json": {
              "type": "dataframe",
              "variable_name": "conversion_by_exposure",
              "summary": "{\n  \"name\": \"conversion_by_exposure\",\n  \"rows\": 9,\n  \"fields\": [\n    {\n      \"column\": [\n        \"exposure_bins\",\n        \"\"\n      ],\n      \"properties\": {\n        \"dtype\": \"category\",\n        \"num_unique_values\": 9,\n        \"samples\": [\n          \"(25.0, 36.0]\",\n          \"(3.0, 5.0]\",\n          \"(15.0, 19.0]\"\n        ],\n        \"semantic_type\": \"\",\n        \"description\": \"\"\n      }\n    },\n    {\n      \"column\": [\n        \"converted\",\n        \"count\"\n      ],\n      \"properties\": {\n        \"dtype\": \"number\",\n        \"std\": 23709,\n        \"min\": 40681,\n        \"max\": 119537,\n        \"num_unique_values\": 9,\n        \"samples\": [\n          51282,\n          50425,\n          48035\n        ],\n        \"semantic_type\": \"\",\n        \"description\": \"\"\n      }\n    },\n    {\n      \"column\": [\n        \"converted\",\n        \"mean\"\n      ],\n      \"properties\": {\n        \"dtype\": \"number\",\n        \"std\": 0.018935623007788352,\n        \"min\": 0.002124865104528305,\n        \"max\": 0.06167322834645669,\n        \"num_unique_values\": 9,\n        \"samples\": [\n          0.025038025038025036,\n          0.003430837878036688,\n          0.009243260122827106\n        ],\n        \"semantic_type\": \"\",\n        \"description\": \"\"\n      }\n    },\n    {\n      \"column\": [\n        \"converted\",\n        \"sum\"\n      ],\n      \"properties\": {\n        \"dtype\": \"number\",\n        \"std\": 954,\n        \"min\": 164,\n        \"max\": 3133,\n        \"num_unique_values\": 9,\n        \"samples\": [\n          1284,\n          173,\n          444\n        ],\n        \"semantic_type\": \"\",\n        \"description\": \"\"\n      }\n    },\n    {\n      \"column\": [\n        \"total_ads\",\n        \"mean\"\n      ],\n      \"properties\": {\n        \"dtype\": \"number\",\n        \"std\": 14.4817960178146,\n        \"min\": 1.7743794808302031,\n        \"max\": 46.93397637795275,\n        \"num_unique_values\": 9,\n        \"samples\": [\n          30.543641043641042,\n          4.555756073376301,\n          17.359612782346208\n        ],\n        \"semantic_type\": \"\",\n        \"description\": \"\"\n      }\n    }\n  ]\n}"
            }
          },
          "metadata": {},
          "execution_count": 33
        }
      ]
    },
    {
      "cell_type": "code",
      "source": [
        "# Fit logistic regression to model probability of conversion based on ad exposures\n",
        "model = logit('converted ~ total_ads', data=ad_data_exp).fit()\n",
        "\n",
        "# Print the parameters of the fitted model\n",
        "print(model.params)\n",
        "print(f'\\nIntercept: {model.params.iloc[0]:.4f}\\nSlope: {model.params.iloc[1]:.4f}')"
      ],
      "metadata": {
        "colab": {
          "base_uri": "https://localhost:8080/"
        },
        "id": "qsUNXGeWnp3A",
        "outputId": "d86d5222-2a80-4593-ba1a-afdfe87f50a3"
      },
      "execution_count": 34,
      "outputs": [
        {
          "output_type": "stream",
          "name": "stdout",
          "text": [
            "Optimization terminated successfully.\n",
            "         Current function value: 0.062669\n",
            "         Iterations 9\n",
            "Intercept   -5.7875\n",
            "total_ads    0.0640\n",
            "dtype: float64\n",
            "\n",
            "Intercept: -5.7875\n",
            "Slope: 0.0640\n"
          ]
        }
      ]
    },
    {
      "cell_type": "markdown",
      "source": [
        "Check Model Accuracy"
      ],
      "metadata": {
        "id": "sciz8Ce-nwpo"
      }
    },
    {
      "cell_type": "code",
      "source": [
        "# Generate predictions for model evaluation\n",
        "ad_data_exp['predicted_prob'] = model.predict(ad_data_exp)\n",
        "\n",
        "# Calculate model accuracy (AUC score): 0.5=random, 1.0=perfect\n",
        "auc_score = roc_auc_score(ad_data_exp['converted'], ad_data_exp['predicted_prob'])\n",
        "\n",
        "# Define performance levels\n",
        "auc_levels = {\n",
        "   0.9: \"Excellent\",\n",
        "   0.8: \"Very good\",\n",
        "   0.7: \"Good\",\n",
        "   0.6: \"Fair\",\n",
        "   0.5: \"Poor\"\n",
        "}\n",
        "\n",
        "# Find appropriate performance level\n",
        "performance = next((v for k, v in auc_levels.items() if auc_score >= k), \"Worse than random\")\n",
        "\n",
        "print(f\"AUC: {auc_score:.3f} - {performance} model performance\")"
      ],
      "metadata": {
        "colab": {
          "base_uri": "https://localhost:8080/"
        },
        "id": "DLDfOwkon0sd",
        "outputId": "57749f69-9318-4bcc-e9ba-96d12ff609db"
      },
      "execution_count": 35,
      "outputs": [
        {
          "output_type": "stream",
          "name": "stdout",
          "text": [
            "AUC: 0.797 - Good model performance\n"
          ]
        }
      ]
    },
    {
      "cell_type": "markdown",
      "source": [
        "Create the function for finding the optimal number of ads to post\n",
        "The marginal_return formula is the derivative of the logistic function. It tells us how fast probability is growing at each point (each number of ads). In simple words, it calculates the slope of the logistic curver at each x point."
      ],
      "metadata": {
        "id": "XltoqB0loBJC"
      }
    },
    {
      "cell_type": "code",
      "source": [
        "def find_optimal_ad_exposures(df, model):\n",
        "    \"\"\"\n",
        "    Calculate optimal number of ad exposures by finding point of diminishing returns.\n",
        "\n",
        "    Parameters:\n",
        "        df: pd.DataFrame containing ad exposure data\n",
        "        model: Fitted logistic regression model with intercept and slope parameters\n",
        "\n",
        "    Returns:\n",
        "        int: Optimal number of ad exposures where marginal returns start diminishing\n",
        "\n",
        "    Formula:\n",
        "        Marginal Return = slope * e^(intercept + slope*x) / (1 + e^(intercept + slope*x))^2,\n",
        "\n",
        "        where x is number of ad exposures\n",
        "    \"\"\"\n",
        "    # Calculates how much one additional ad increases conversion probability\n",
        "    # (finds slope at each point of the S-shaped logistic curve)\n",
        "    def marginal_return(x, beta0, beta1):\n",
        "        return beta1 * np.exp(beta0 + beta1 * x) / (1 + np.exp(beta0 + beta1 * x))**2\n",
        "\n",
        "    # minimize() function: starts at mean ads -> tries different values(x) -> follows decreasing marginal returns\n",
        "    # -> stops at optimal point where adding more ads gives minimal benefit\n",
        "    optimal_exposure = minimize(\n",
        "        lambda x: -marginal_return(x, model.params.iloc[0], model.params.iloc[1]), # (-) turns minimization into maximization\n",
        "        x0=df['total_ads'].mean(),\n",
        "        bounds=[(df['total_ads'].min(), df['total_ads'].max())]\n",
        "    ).x[0] # extract the only value\n",
        "\n",
        "    return int(optimal_exposure)\n",
        "\n",
        "# Apply the function\n",
        "optimal_exposure = find_optimal_ad_exposures(ad_data_exp, model)\n",
        "print(f'The optimal number of ads: {optimal_exposure}')"
      ],
      "metadata": {
        "colab": {
          "base_uri": "https://localhost:8080/"
        },
        "id": "mZ_B0MIcoDNV",
        "outputId": "eb9fae90-2b25-40fc-9161-b6a041b6a3f6"
      },
      "execution_count": 37,
      "outputs": [
        {
          "output_type": "stream",
          "name": "stdout",
          "text": [
            "The optimal number of ads: 15\n"
          ]
        }
      ]
    },
    {
      "cell_type": "code",
      "source": [
        "# Create visualization\n",
        "fig, ax = plt.subplots()\n",
        "\n",
        "x_range = np.linspace(ad_data_exp['total_ads'].min(), ad_data_exp['total_ads'].max(), 100)\n",
        "y_pred = model.predict(pd.DataFrame({'total_ads': x_range}))\n",
        "\n",
        "# Plot model's predicted conversion curve\n",
        "sns.lineplot(x=x_range, y=y_pred, label='Fitted curve', color='#F28482')\n",
        "\n",
        "# Mark optimal exposure point\n",
        "ax.axvline(x=optimal_exposure, color='#84A59D', linestyle='--', label=f'Optimal exposure: {optimal_exposure:.1f}')\n",
        "\n",
        "# Plot actual conversion rates by total_ads bin\n",
        "sns.scatterplot(data=conversion_by_exposure,\n",
        "               x=('total_ads', 'mean'), # MultiIndex column: ('total_ads', 'mean')\n",
        "               y=('converted', 'mean'), # MultiIndex column: ('converted', 'mean')\n",
        "               s=100,\n",
        "               label='Actual conversion rates by bin')\n",
        "# Format y-axis as percentages\n",
        "ax.yaxis.set_major_formatter(plt.FuncFormatter(lambda y, _: '{:.1%}'.format(y)))\n",
        "\n",
        "plt.title('Conversion Rate vs Ad Exposures')\n",
        "plt.xlabel('Number of Ad Exposures')\n",
        "plt.ylabel('Conversion Rate')\n",
        "# Remove the top and right spines\n",
        "plt.gca().spines[['top', 'right']].set_visible(False)\n",
        "plt.legend()\n",
        "plt.show()"
      ],
      "metadata": {
        "colab": {
          "base_uri": "https://localhost:8080/",
          "height": 564
        },
        "id": "nQRr46XeomCf",
        "outputId": "34a9e057-88f2-4ea2-8c03-1a9af597effa"
      },
      "execution_count": 38,
      "outputs": [
        {
          "output_type": "display_data",
          "data": {
            "text/plain": [
              "<Figure size 1200x600 with 1 Axes>"
            ],
            "image/png": "[encoded data removed]"
          },
          "metadata": {
            "image/png": {
              "width": 1018,
              "height": 547
            }
          }
        }
      ]
    },
    {
      "cell_type": "markdown",
      "source": [
        "**Business Interpretation of the Results**\n",
        "\n",
        "While more Ad views are somewhat associated with higher conversion, the relationship is weak (0.15). Other factors likely play a more important role in conversion. Simply increasing Ad views may not be the most effective strategy for improving conversion rates.\n",
        "\n",
        "The optimal number of ad exposures is 15, after which:\n",
        "\n",
        "* Marginal returns start diminishing significantly\n",
        "* Each additional ad exposure provides less incremental benefit\n",
        "* Even though conversion rates continue to rise up to 60 exposures, the efficiency of ad spend decreases\n",
        "\n",
        "**Recommendations**\n",
        "\n",
        "Target 15 ad exposures per user for optimal cost-effectiveness. It is better to focus on improving ad quality and targeting rather than just increasing frequency."
      ],
      "metadata": {
        "id": "XFYk5uHzo5DZ"
      }
    },
    {
      "cell_type": "markdown",
      "source": [
        "# Temporal Analysis"
      ],
      "metadata": {
        "id": "-syfXyCepmu0"
      }
    },
    {
      "cell_type": "markdown",
      "source": [
        "In essence, since the goal is to find the best times for showing ads, analyzing data from users who didn't see ads (PSA group) would introduce noise and potentially lead to incorrect conclusions about optimal ad timing. Treatment group (ad data) must be used exclusively for temporal analysis because:\n",
        "\n",
        "* Purpose is to optimize ad campaign timing specifically\n",
        "* Including PSA (control) data would dilute patterns specific to ad effectiveness\n",
        "* Mixing treatment and control data could mask true temporal patterns of ad performance\n",
        "\n",
        "We'll use only treatment (ad) group for temporal analysis since we're optimizing ad performance.\n",
        "\n",
        "**Weekday Difference**\n",
        "\n",
        "* Which days of the week show the highest conversion rates?\n",
        "* Is the a significant difference in conversion between weekdays?\n",
        "* What are the most effective day of week for ad display?\n",
        "\n",
        "Which days of the week show the highest conversion rates?"
      ],
      "metadata": {
        "id": "q_VDJxH8ptD-"
      }
    },
    {
      "cell_type": "code",
      "source": [
        "# Calculate avg daily conversion for each weekday\n",
        "daily_conv = ad_data.groupby('most_ads_day').agg({'converted': 'mean'}).round(3).reset_index()\n",
        "\n",
        "# Calculate mean of daily conversion rates (avg across weekdays)\n",
        "daily_avg_conversion = daily_conv['converted'].mean()"
      ],
      "metadata": {
        "id": "yinenKu4qO7L"
      },
      "execution_count": 39,
      "outputs": []
    },
    {
      "cell_type": "code",
      "source": [
        "day_order = ['Sunday', 'Monday', 'Tuesday', 'Wednesday', 'Thursday', 'Friday', 'Saturday']\n",
        "\n",
        "\n",
        "# Create the figure\n",
        "fig, ax = plt.subplots()\n",
        "\n",
        "sns.barplot(data=daily_conv, x='most_ads_day', y='converted', order=day_order, palette=custom_colors, ax=ax)\n",
        "\n",
        "# Add reference line for average conversion rate\n",
        "ax.axhline(y=daily_avg_conversion, linestyle='--', alpha=0.7, color='red', label=f'Avg. Daily Conv. Rate: {daily_avg_conversion:.2%}')\n",
        "\n",
        "# Format y-axis as percentages\n",
        "ax.yaxis.set_major_formatter(plt.FuncFormatter(lambda y, _: '{:.1%}'.format(y)))\n",
        "\n",
        "plt.title('Conversion Rate by Weekday')\n",
        "plt.xlabel('Weekday')\n",
        "plt.ylabel('Conversion Rate')\n",
        "\n",
        "plt.legend()\n",
        "# Remove the top and right spines\n",
        "plt.gca().spines[['top', 'right']].set_visible(False)\n",
        "plt.show()"
      ],
      "metadata": {
        "colab": {
          "base_uri": "https://localhost:8080/",
          "height": 564
        },
        "id": "oICqYLTnprMG",
        "outputId": "f23bfb56-d31e-4171-90d5-c419f2226d0a"
      },
      "execution_count": 40,
      "outputs": [
        {
          "output_type": "display_data",
          "data": {
            "text/plain": [
              "<Figure size 1200x600 with 1 Axes>"
            ],
            "image/png": "[encoded data removed]"
          },
          "metadata": {
            "image/png": {
              "width": 1011,
              "height": 547
            }
          }
        }
      ]
    },
    {
      "cell_type": "markdown",
      "source": [
        "**Is the a significant difference in conversion between weekdays?**\n",
        "\n",
        "Chi-square test of independence is optimal for analyzing conversion rate differences across weekdays because it specifically handles:\n",
        "\n",
        "* Categorical variables (weekdays and binary conversion outcome)\n",
        "* Binary/proportional data (converted/not converted), unlike ANOVA * which requires continuous dependent variables\n",
        "* Large sample comparisons across multiple groups simultaneously\n",
        "\n",
        "ANOVA is inappropriate here because:\n",
        "\n",
        "* Conversion data is binary (0/1), not continuous\n",
        "* ANOVA assumes normal distribution, which binary data violates\n",
        "* ANOVA compares means of continuous variables, not proportions"
      ],
      "metadata": {
        "id": "GgnMNp5OrN6F"
      }
    },
    {
      "cell_type": "code",
      "source": [
        "# Create contingency table for the further testing\n",
        "contingency = pd.crosstab(ad_data['most_ads_day'], ad_data['converted'])\n",
        "\n",
        "# Conduct the Chi-square test\n",
        "chi2_stat, p_value, _, _ = chi2_contingency(contingency)\n",
        "print(f'Chi-square statistic: {chi2_stat:.4f}')\n",
        "print(f'p-value: {p_value:.4f}')\n",
        "\n",
        "if p_value < 0.05:\n",
        "    print('\\nReject the null hypothesis: There is a statistically significant difference in conversion rates across weekdays.')\n",
        "else:\n",
        "    print('\\nFail to reject the null hypothesis: There is no statistically significant evidence of differences in conversion rates across weekdays.')"
      ],
      "metadata": {
        "colab": {
          "base_uri": "https://localhost:8080/"
        },
        "id": "gr3TW2F9rj5G",
        "outputId": "f2fa0735-012b-4ea8-f869-80d6f4a1a709"
      },
      "execution_count": 41,
      "outputs": [
        {
          "output_type": "stream",
          "name": "stdout",
          "text": [
            "Chi-square statistic: 197.4258\n",
            "p-value: 0.0000\n",
            "\n",
            "Reject the null hypothesis: There is a statistically significant difference in conversion rates across weekdays.\n"
          ]
        }
      ]
    },
    {
      "cell_type": "markdown",
      "source": [
        "**Baseline Comparison**\n",
        "\n",
        "Statistical analysis aims to determine optimal weekdays for launching ad campaign by comparing daily conversion rates against the choosen baseline (average conversion across treatment group weekdays). This approach identifies days with significantly higher performance than typical results."
      ],
      "metadata": {
        "id": "0KoP1tm1rrtX"
      }
    },
    {
      "cell_type": "code",
      "source": [
        "# Compare each day against baseline(avg. across weekdays)\n",
        "results = []\n",
        "for day in ad_data['most_ads_day'].unique():\n",
        "    day_data = ad_data[ad_data['most_ads_day'] == day]\n",
        "\n",
        "    # Z-test against baseline\n",
        "    stat, p_val = proportions_ztest(\n",
        "        [day_data['converted'].sum()],\n",
        "        [len(day_data)],\n",
        "        value=daily_avg_conversion,\n",
        "        alternative='larger'  # test for higher conversion\n",
        "    )\n",
        "\n",
        "    # Calculate the conversion lift\n",
        "    lift = (day_data['converted'].mean() - daily_avg_conversion) / daily_avg_conversion * 100\n",
        "    # Append list of values to the 'result' list\n",
        "    results.append([day, day_data['converted'].mean(), lift, p_val])\n",
        "\n",
        "# Create df from list of lists\n",
        "results_df = pd.DataFrame(results, columns=['Day', 'Conv Rate', 'Lift %', 'P-value'])\n",
        "print(results_df.sort_values('Conv Rate', ascending=False))"
      ],
      "metadata": {
        "colab": {
          "base_uri": "https://localhost:8080/"
        },
        "id": "Lzb54uYwrvFU",
        "outputId": "2fc23ee5-4206-4639-f091-892a282e19d2"
      },
      "execution_count": 42,
      "outputs": [
        {
          "output_type": "stream",
          "name": "stdout",
          "text": [
            "         Day  Conv Rate   Lift %                   P-value\n",
            "6     Monday     0.0174  31.3388   [9.847886411195401e-19]\n",
            "0    Tuesday     0.0159  19.6495  [2.5116378444794103e-08]\n",
            "2  Wednesday     0.0131  -1.2770      [0.6538722887079398]\n",
            "1     Sunday     0.0131  -1.3173      [0.6635407229963548]\n",
            "3     Friday     0.0119 -10.0601      [0.9997520032324506]\n",
            "5   Thursday     0.0115 -13.6873      [0.9999979752693205]\n",
            "4   Saturday     0.0108 -18.6911      [0.9999999999413033]\n"
          ]
        }
      ]
    },
    {
      "cell_type": "markdown",
      "source": [
        "According to the analysis, weekday performance is strongest **early in the week (Mon-Tue).**"
      ],
      "metadata": {
        "id": "5wsLKWQnr7oo"
      }
    },
    {
      "cell_type": "markdown",
      "source": [
        "**What are the most effective day of week for ad display?**\n",
        "\n",
        "*Post-hoc pairwise comparison*\n",
        "\n",
        "After detection of significant conversion rate differences across weekdays via Chi-square test (p < 0.05), pairwise comparisons between all days may reveal specific performance variations.\n",
        "\n",
        "**Z-test for proportions** is chosen for pairwise comparisons because:\n",
        "\n",
        "* Directly compares conversion rates (proportions) between two groups\n",
        "* Appropriate for binary outcomes (converted/not converted)\n",
        "* Suitable for large sample sizes, meeting Central Limit Theorem requirements\n",
        "* Tests whether the difference in proportions is statistically significant (Bonferroni correction accounts for multiple testing, maintaining statistical validity by controlling Type I error rate at 5% across all comparisons.)"
      ],
      "metadata": {
        "id": "dfQimjtRsKm7"
      }
    },
    {
      "cell_type": "code",
      "source": [
        "# Get unique days\n",
        "days = ad_data['most_ads_day'].unique()\n",
        "\n",
        "# Initialize an empty list to store the pairwise test results\n",
        "results = []\n",
        "\n",
        "# Iterate over all unique pairwise combinations of days\n",
        "for day1, day2 in combinations(days, 2): # generating all pairwise combinations\n",
        "    day1_data = ad_data[ad_data['most_ads_day'] == day1]['converted']\n",
        "    day2_data = ad_data[ad_data['most_ads_day'] == day2]['converted']\n",
        "\n",
        "    # Perform a two-sided z-test for the difference in conversion proportions\n",
        "    stat, pval = proportions_ztest(\n",
        "        count=[day1_data.sum(), day2_data.sum()], # number of convertions for each day\n",
        "        nobs=[len(day1_data), len(day2_data)],    # number of users for each day\n",
        "        alternative='two-sided'                   # test for any difference (not directional)\n",
        "    )\n",
        "    # Append results to the list, formatting values to 4 decimal places\n",
        "    results.append([\n",
        "        day1, day2,\n",
        "        f\"{day1_data.mean():.4f}\",\n",
        "        f\"{day2_data.mean():.4f}\",\n",
        "        f\"{pval:.4f}\"\n",
        "    ])\n",
        "\n",
        "    # Create DataFrame and apply Bonferroni correction to the p-value\n",
        "pairwise_df = pd.DataFrame(results, columns=['Day1', 'Day2', 'Conv1', 'Conv2', 'P-value'])\n",
        "pairwise_df['Adjusted P-value'] = multipletests([float(p) for p in pairwise_df['P-value']], method='bonferroni')[1] # Extract adjusted p-values\n",
        "\n",
        "# Change the way adj. p-values are displayed\n",
        "pairwise_df['Adjusted P-value'] = pairwise_df['Adjusted P-value'].apply(lambda x: f\"{x:.4f}\")\n",
        "\n",
        "# Show only significant differences (adjusted p-value < 0.05)\n",
        "significant_pairs = pairwise_df[pairwise_df['Adjusted P-value'].astype(float) < 0.05].sort_values('Adjusted P-value')\n",
        "print(significant_pairs)"
      ],
      "metadata": {
        "colab": {
          "base_uri": "https://localhost:8080/"
        },
        "id": "VPs4ZcQLsvT6",
        "outputId": "ce459a63-2816-4200-f535-c3daf8e30582"
      },
      "execution_count": 44,
      "outputs": [
        {
          "output_type": "stream",
          "name": "stdout",
          "text": [
            "         Day1       Day2   Conv1   Conv2 P-value Adjusted P-value\n",
            "0     Tuesday     Sunday  0.0159  0.0131  0.0000           0.0000\n",
            "1     Tuesday  Wednesday  0.0159  0.0131  0.0000           0.0000\n",
            "2     Tuesday     Friday  0.0159  0.0119  0.0000           0.0000\n",
            "3     Tuesday   Saturday  0.0159  0.0108  0.0000           0.0000\n",
            "4     Tuesday   Thursday  0.0159  0.0115  0.0000           0.0000\n",
            "8      Sunday   Saturday  0.0131  0.0108  0.0000           0.0000\n",
            "10     Sunday     Monday  0.0131  0.0174  0.0000           0.0000\n",
            "14  Wednesday     Monday  0.0131  0.0174  0.0000           0.0000\n",
            "17     Friday     Monday  0.0119  0.0174  0.0000           0.0000\n",
            "19   Saturday     Monday  0.0108  0.0174  0.0000           0.0000\n",
            "20   Thursday     Monday  0.0115  0.0174  0.0000           0.0000\n",
            "12  Wednesday   Saturday  0.0131  0.0108  0.0001           0.0021\n"
          ]
        }
      ]
    },
    {
      "cell_type": "markdown",
      "source": [
        "**Business Interpretation of the Results**\n",
        "\n",
        "Based on pairwise conversion rate comparisons with Bonferroni correction (α=0.05), **Monday and Tuesday** emerge as optimal days for ad campaign launches. Monday demonstrates the highest conversion rate (1.74%), followed closely by Tuesday (1.59%), with no statistically significant difference between these two days (p=0.4557). Both days consistently outperform other weekdays by a significant margin.\n",
        "\n",
        "Mid-week performance shows **Sunday and Wednesday** achieving moderate conversion rates (1.31%), significantly higher than weekend rates but lower than Monday/Tuesday performance. Thursday, Friday, and Saturday shows the lowest conversion rates.\n",
        "\n",
        "**Recommendations**\n",
        "\n",
        "Concentrate ad campaign resources on **Monday and Tuesday** to maximize conversion potential, with possible extension to **Sunday/Wednesday** if additional campaign days are required."
      ],
      "metadata": {
        "id": "p3WkgJcas5gd"
      }
    },
    {
      "cell_type": "markdown",
      "source": [
        "# Hour Difference\n",
        "* Is there a significant difference in ad performance throughout the day?\n",
        "* What are the most effective hours for ad display?"
      ],
      "metadata": {
        "id": "vLNMHuNZtQaE"
      }
    },
    {
      "cell_type": "code",
      "source": [
        "# Create the figure\n",
        "fig, ax = plt.subplots()\n",
        "\n",
        "# Get top 5 hours\n",
        "top_5_hour_seen = ad_data['most_ads_hour'].value_counts().head(5).index.tolist()\n",
        "colors = [custom_colors[4] if hour in top_5_hour_seen else custom_colors[1] for hour in sorted(ad_data['most_ads_hour'].unique())]\n",
        "\n",
        "sns.countplot(data=ad_data, x='most_ads_hour', palette=colors, ax=ax)\n",
        "\n",
        "plt.title('Number of User by Most Popular Ad Exposure Hour')\n",
        "plt.xlabel('Hour')\n",
        "plt.ylabel('Number of Users')\n",
        "\n",
        "# Remove the top and right spines\n",
        "plt.gca().spines[['top', 'right']].set_visible(False)\n",
        "plt.show()"
      ],
      "metadata": {
        "colab": {
          "base_uri": "https://localhost:8080/",
          "height": 564
        },
        "id": "HZqCcgA9tewA",
        "outputId": "5fb5b978-38ec-4fd1-b4b4-2a6130e28926"
      },
      "execution_count": 45,
      "outputs": [
        {
          "output_type": "display_data",
          "data": {
            "text/plain": [
              "<Figure size 1200x600 with 1 Axes>"
            ],
            "image/png": "[encoded data removed]"
          },
          "metadata": {
            "image/png": {
              "width": 1018,
              "height": 547
            }
          }
        }
      ]
    },
    {
      "cell_type": "markdown",
      "source": [
        "**Current Ad Exposure Pattern:**\n",
        "\n",
        "* Peak ad viewing occurs during midday 11AM-15PM with 40,000+ users per hour\n",
        "* Ad exposure gradually decreases in late afternoon and evening hours\n",
        "* Early morning hours 0AM-6AM show minimal ad activity"
      ],
      "metadata": {
        "id": "0yXZUJeRtnZJ"
      }
    },
    {
      "cell_type": "code",
      "source": [
        "# Calculate avg conversion for each hour\n",
        "hourly_conv = ad_data.groupby('most_ads_hour').agg({'converted': 'mean'}).round(3).reset_index()\n",
        "\n",
        "# Calculate mean of daily conversion rates (avg across weekdays)\n",
        "hourly_avg_conversion = hourly_conv['converted'].mean()"
      ],
      "metadata": {
        "id": "iZvsMAIBtzIi"
      },
      "execution_count": 46,
      "outputs": []
    },
    {
      "cell_type": "code",
      "source": [
        "# Create figure\n",
        "fig, ax = plt.subplots()\n",
        "\n",
        "# Get top 5 hours\n",
        "top_5_hours = hourly_conv.nlargest(5, 'converted')['most_ads_hour']\n",
        "\n",
        "# Create bar plot with custom colors\n",
        "colors = [custom_colors[4] if x in top_5_hours.values else custom_colors[3] for x in hourly_conv['most_ads_hour']]\n",
        "\n",
        "sns.barplot(data=hourly_conv, x='most_ads_hour', y='converted', palette=colors, errorbar=('ci', 95), ax=ax)\n",
        "\n",
        "# Add average line and formatting\n",
        "ax.axhline(y=hourly_avg_conversion, linestyle='--', alpha=0.7, color='red', label=f'Avg. Daily Conv. Rate: {hourly_avg_conversion:.2%}')\n",
        "ax.yaxis.set_major_formatter(plt.FuncFormatter(lambda y, _: '{:.1%}'.format(y)))\n",
        "\n",
        "# Labels and styling\n",
        "plt.title('Conversion Rate by Hour with Most Ads Seen\\n(Top 5 hours highlighted)')\n",
        "plt.xlabel('Hour')\n",
        "plt.ylabel('Conversion Rate')\n",
        "plt.legend()\n",
        "plt.gca().spines[['top', 'right']].set_visible(False)\n",
        "plt.show()"
      ],
      "metadata": {
        "colab": {
          "base_uri": "https://localhost:8080/",
          "height": 586
        },
        "id": "wxy8ymdUt3-D",
        "outputId": "ac97e7c4-e9e4-4a8e-c49d-d4ea149a5d88"
      },
      "execution_count": 47,
      "outputs": [
        {
          "output_type": "display_data",
          "data": {
            "text/plain": [
              "<Figure size 1200x600 with 1 Axes>"
            ],
            "image/png": "[encoded data removed]"
          },
          "metadata": {
            "image/png": {
              "width": 1011,
              "height": 569
            }
          }
        }
      ]
    },
    {
      "cell_type": "markdown",
      "source": [
        "Based on hourly conversion rate visual analysis, optimal ad display times cluster in the afternoon hours (14PM-16PM) and evening (20PM-22PM), showing conversion rates around 1.6% - significantly above the daily average of 1.21%.\n",
        "\n",
        "The peak conversion periods do not perfectly intersect with highest ad seen hours (11AM-15PM), suggesting potential for optimization by redistributing ad delivery to higher-converting timeframes.\n",
        "\n",
        "However, visual analysis alone can be misleading. Differences might appear significant but could be due to random chance Hour-by-hour variations need statistical validation."
      ],
      "metadata": {
        "id": "qxfZI5SXt_LA"
      }
    },
    {
      "cell_type": "markdown",
      "source": [
        "Is there a significant difference in ad performance throughout the day?\n",
        "\n",
        "Statistical Test\n",
        "\n",
        "Chi-square test of independence is optimal for analyzing conversion rate differences across weekdays because it specifically handles:\n",
        "\n",
        "* Categorical variables (weekdays and binary conversion outcome)\n",
        "* Binary/proportional data (converted/not converted), unlike ANOVA which requires continuous dependent variables\n",
        "* Large sample comparisons across multiple groups simultaneously\n",
        "\n",
        "ANOVA is inappropriate here because:\n",
        "\n",
        "* Conversion data is binary (0/1), not continuous\n",
        "* ANOVA assumes normal distribution, which binary data violates\n",
        "* ANOVA compares means of continuous variables, not proportions"
      ],
      "metadata": {
        "id": "Cxn4HCMEuc_2"
      }
    },
    {
      "cell_type": "code",
      "source": [
        "# Create contingency table for the further testing\n",
        "contingency = pd.crosstab(ad_data['most_ads_hour'], ad_data['converted'])\n",
        "\n",
        "# Conduct the Chi-square test\n",
        "chi2_stat, p_value, _, _ = chi2_contingency(contingency)\n",
        "print(f'Chi-square statistic: {chi2_stat:.4f}')\n",
        "print(f'p-value: {p_value:.4f}')\n",
        "\n",
        "if p_value < 0.05:\n",
        "    print('\\nReject the null hypothesis: There is a statistically significant difference in conversion rates across hours.')\n",
        "else:\n",
        "    print('\\nFail to reject the null hypothesis: There is no statistically significant evidence of differences in conversion rates across hours.')"
      ],
      "metadata": {
        "colab": {
          "base_uri": "https://localhost:8080/"
        },
        "id": "7cr-O1ZEuuLp",
        "outputId": "75e4baff-0908-41e6-ff89-debbbb0a9de3"
      },
      "execution_count": 48,
      "outputs": [
        {
          "output_type": "stream",
          "name": "stdout",
          "text": [
            "Chi-square statistic: 195.3451\n",
            "p-value: 0.0000\n",
            "\n",
            "Reject the null hypothesis: There is a statistically significant difference in conversion rates across hours.\n"
          ]
        }
      ]
    },
    {
      "cell_type": "markdown",
      "source": [
        "What are the most effective hours for ad display?\n",
        "\n",
        "**Post-hoc pairwise comparison**\n",
        "\n",
        "After detection of significant conversion rate differences across hours via Chi-square test (p < 0.05), pairwise comparisons between all days may reveal specific performance variations. Following this initial finding, we must conduct post-hoc pairwise comparisons using Z-tests for proportions to identify specific hours with superior performance.\n",
        "\n",
        "This methodological approach provides robust statistical evidence for optimizing ad delivery timing based on conversion performance."
      ],
      "metadata": {
        "id": "LnFVI5N6u0WU"
      }
    },
    {
      "cell_type": "code",
      "source": [
        "# Get unique hours\n",
        "hours = ad_data['most_ads_hour'].unique()\n",
        "\n",
        "# Initialize list for results\n",
        "results = []\n",
        "\n",
        "# Iterate over all unique pairwise combinations of hours\n",
        "for hour1, hour2 in combinations(hours, 2):\n",
        "    hour1_data = ad_data[ad_data['most_ads_hour'] == hour1]['converted']\n",
        "    hour2_data = ad_data[ad_data['most_ads_hour'] == hour2]['converted']\n",
        "\n",
        "    # Perform z-test for difference in conversion proportions\n",
        "    stat, pval = proportions_ztest(\n",
        "        count=[hour1_data.sum(), hour2_data.sum()],    # conversions per hour\n",
        "        nobs=[len(hour1_data), len(hour2_data)],       # users per hour\n",
        "        alternative='larger'\n",
        "    )\n",
        "    # Add the result to results list\n",
        "    results.append([\n",
        "    hour1, hour2,\n",
        "    hour1_data.mean(),\n",
        "    hour2_data.mean(),\n",
        "    pval\n",
        "    ])\n",
        "\n",
        "    # Create DataFrame and apply Bonferroni correction\n",
        "pairwise_df = pd.DataFrame(results, columns=['Hour1', 'Hour2', 'Conv1', 'Conv2', 'P-value'])\n",
        "pairwise_df['Adjusted P-value'] = multipletests(\n",
        "    [float(p) for p in pairwise_df['P-value']],\n",
        "    method='bonferroni'\n",
        ")[1]\n",
        "\n",
        "# Format adjusted p-values\n",
        "pairwise_df['Adjusted P-value'] = pairwise_df['Adjusted P-value'].apply(lambda x: f\"{x:.4f}\")\n",
        "\n",
        "# Show significant differences\n",
        "significant_pairs = pairwise_df[\n",
        "    pairwise_df['Adjusted P-value'].astype(float) < 0.05\n",
        "].sort_values('Adjusted P-value')\n",
        "\n",
        "#print(significant_pairs)"
      ],
      "metadata": {
        "id": "LOSFlEyfu5p6"
      },
      "execution_count": 49,
      "outputs": []
    },
    {
      "cell_type": "code",
      "source": [
        "# Perform groupby and aggregation\n",
        "grouped = significant_pairs.groupby('Hour1').agg({\n",
        "    'Hour1': 'count',  # Count occurrences\n",
        "    'Conv1': 'mean'    # Calculate mean of Conv1\n",
        "}).rename(columns={'Hour1': 'Num of Comparisons', 'Conv1': 'Conv. Rate'}).reset_index()  # Rename column\n",
        "\n",
        "# Sort by 'count' (descending) and then by 'Conv1' (descending)\n",
        "sorted_grouped = grouped.sort_values(by=['Num of Comparisons', 'Conv. Rate'], ascending=[False, False])\n",
        "\n",
        "# Select the top 5 rows\n",
        "top_5_hours = sorted_grouped.head(5)\n",
        "\n",
        "print(top_5_hours)"
      ],
      "metadata": {
        "colab": {
          "base_uri": "https://localhost:8080/"
        },
        "id": "izVVP66XvLbI",
        "outputId": "c8cb9f8b-38db-46d9-f06e-3455c18752bf"
      },
      "execution_count": 50,
      "outputs": [
        {
          "output_type": "stream",
          "name": "stdout",
          "text": [
            "    Hour1  Num of Comparisons  Conv. Rate\n",
            "14     20                   8      0.0162\n",
            "10     16                   7      0.0163\n",
            "15     21                   6      0.0152\n",
            "16     22                   4      0.0155\n",
            "11     17                   4      0.0152\n"
          ]
        }
      ]
    },
    {
      "cell_type": "markdown",
      "source": [
        "Statistical analysis reveals that **20PM - 22PM, 16PM - 17PM** hour intervals (inclusively!) demonstrate significantly higher conversion rates (1.62%, 1.63%, and 1.52% respectively) with the highest number of significant comparisons against other hours.\n",
        "This provides stronger statistical evidence compared to visual bar plot analysis, which only suggested slightly different result based on raw conversion rates alone. The discrepancy highlights the importance of considering both statistical significance and the number of successful comparisons, not just absolute conversion rates.\n",
        "\n",
        "**Recommendations**\n",
        "\n",
        "Shift ad budget allocation to peak conversion hours **120PM - 22PM** and **16PM - 17PM**, focusing ad delivery primarily on statistically validated peak hours to maximize conversion efficiency.\n",
        "\n",
        "\n",
        "---\n",
        "\n"
      ],
      "metadata": {
        "id": "IUZ9SsYjvRTL"
      }
    },
    {
      "cell_type": "code",
      "source": [
        "!jupyter nbconvert --to html DigMktA_B.ipynb"
      ],
      "metadata": {
        "colab": {
          "base_uri": "https://localhost:8080/"
        },
        "id": "LJ3zl-eQwjwq",
        "outputId": "bf85c94b-acab-43a1-c232-e21af456b9ff"
      },
      "execution_count": 51,
      "outputs": [
        {
          "output_type": "stream",
          "name": "stdout",
          "text": [
            "[NbConvertApp] Converting notebook DigMktA_B.ipynb to html\n",
            "[NbConvertApp] WARNING | Alternative text is missing on 6 image(s).\n",
            "[NbConvertApp] Writing 1156400 bytes to DigMktA_B.html\n"
          ]
        }
      ]
    }
  ]
}